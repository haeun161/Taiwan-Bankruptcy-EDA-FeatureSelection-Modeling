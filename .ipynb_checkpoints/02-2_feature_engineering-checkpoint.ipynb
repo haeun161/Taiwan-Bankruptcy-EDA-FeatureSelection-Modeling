{
 "cells": [
  {
   "cell_type": "markdown",
   "id": "61ff9cac-e672-4f97-a1b4-a8feead85bea",
   "metadata": {},
   "source": [
    "## 다양한 피처선정 방법으로 피처 선택하기\n",
    "- <b> 분산 기반 선택(Variance-based Selection): </b>\n",
    "- 분산이 낮은 변수를 제거하는 방법\n",
    "- 분산 낮은 변수 = 데이터의 변동이 거의 x -> 정보량 부족: 변동이 적은 변수는 모델이 학습할 수 있는 정보가 거의 없기 때문에 유의미한 패턴을 찾는 데 도움이 되지 않는다.\n",
    "- 분산이 낮은 변수는 모델의 성능을 저하시키는 노이즈로 작용 가능 -> 이는 모델의 복잡성을 증가시키고 과적합(overfitting)을 초래할 수 있다. 불필요한 변수를 제거하면 모델이 더 일반화(generalize)되는 데 도움이 됩니다."
   ]
  },
  {
   "cell_type": "code",
   "execution_count": 1,
   "id": "44227ab3-e574-4ad2-a4b7-0eee1ef1cb76",
   "metadata": {
    "tags": []
   },
   "outputs": [],
   "source": [
    "import pandas as pd\n",
    "from sklearn.feature_selection import VarianceThreshold"
   ]
  },
  {
   "cell_type": "code",
   "execution_count": 2,
   "id": "e9dc2e72-c104-4c19-a695-f9524779e4f5",
   "metadata": {
    "tags": []
   },
   "outputs": [],
   "source": [
    "# 파일 경로 설정\n",
    "file_path = \"data.csv\"\n",
    "\n",
    "# CSV 파일을 DataFrame으로 불러오기\n",
    "data = pd.read_csv(file_path)"
   ]
  },
  {
   "cell_type": "code",
   "execution_count": 3,
   "id": "559b46c7-90cf-464d-a62f-b920c0b62c57",
   "metadata": {
    "tags": []
   },
   "outputs": [],
   "source": [
    "# 독립변수 종속변수 정리\n",
    "X = data\n",
    "y= data['Bankrupt?']"
   ]
  },
  {
   "cell_type": "code",
   "execution_count": 4,
   "id": "9fc3a5fd-9182-446d-b8b8-72d05b7e2569",
   "metadata": {
    "tags": []
   },
   "outputs": [],
   "source": [
    "X_names = X.columns"
   ]
  },
  {
   "cell_type": "code",
   "execution_count": 6,
   "id": "24e04905-ea76-43bf-b280-68897ad73a9c",
   "metadata": {},
   "outputs": [
    {
     "name": "stdout",
     "output_type": "stream",
     "text": [
      "각 피처의 분산: [3.12219072e-02 3.68220668e-03 4.30535700e-03 3.79336416e-03\n",
      " 2.86711955e-04 2.86111462e-04 1.69235931e-04 1.65586576e-04\n",
      " 1.84950661e-04 1.24604113e-04 1.60733568e-04 1.04810597e+19\n",
      " 6.75012895e+18 2.90166291e-04 1.17217636e+16 1.92258548e-02\n",
      " 1.11471313e-03 1.12031183e-03 1.12075524e-03 1.10623918e-03\n",
      " 3.10098773e-04 2.67323105e+15 7.80654544e-04 1.10076482e-03\n",
      " 1.45887370e-04 1.15598815e-04 1.91878083e-04 1.93467609e-04\n",
      " 1.01248377e-04 8.39553690e+18 1.30304550e+16 9.28043687e-05\n",
      " 4.29942102e-04 1.10887094e+15 5.98618462e+16 1.26284495e-04\n",
      " 2.83567266e+16 2.90697304e-03 2.90697304e-03 7.92471013e-04\n",
      " 2.65200220e-04 1.48534380e-04 7.71708889e-04 9.47563177e-04\n",
      " 1.77505062e-04 1.02288044e-02 7.74171821e+16 6.57102456e+16\n",
      " 1.05477427e+19 6.13739008e+18 1.34525030e-03 1.86657445e+16\n",
      " 1.07045083e-03 8.67212378e+16 3.48691104e-03 4.07972352e-02\n",
      " 4.75657902e-02 1.93878814e-02 2.94494169e+16 2.60419848e+17\n",
      " 2.52869880e-03 1.23514340e-03 1.09580685e-04 3.38734330e+17\n",
      " 4.27090221e-02 1.36356303e-04 1.81900217e-04 3.25160891e+17\n",
      " 6.53433591e-04 1.46214722e-04 7.36947993e-04 7.95778356e+18\n",
      " 1.13885793e+19 8.02587933e-05 8.63424008e+18 8.72479413e-05\n",
      " 1.01499118e+16 4.27090221e-02 1.81900217e-04 3.81332796e-04\n",
      " 2.24378978e-03 8.96432626e-04 3.42883512e-03 1.67960097e-04\n",
      " 9.51255285e-04 1.17181617e-03 1.62644712e-03 1.41693865e+17\n",
      " 1.51010841e-04 2.86711794e-04 2.10872835e-04 2.09154159e-04\n",
      " 2.45448402e-04 1.74590525e-04 0.00000000e+00 2.50100498e-03]\n",
      "선택된 피처들의 이름: [' Operating Expense Rate', ' Research and development expense rate', ' Interest-bearing debt interest rate', ' Revenue Per Share (Yuan ¥)', ' Total Asset Growth Rate', ' Net Value Growth Rate', ' Current Ratio', ' Quick Ratio', ' Total debt/Total net worth', ' Accounts Receivable Turnover', ' Average Collection Days', ' Inventory Turnover Rate (times)', ' Fixed Assets Turnover Frequency', ' Revenue per person', ' Allocation rate per person', ' Quick Assets/Current Liability', ' Cash/Current Liability', ' Inventory/Current Liability', ' Long-term Liability to Current Assets', ' Current Asset Turnover Rate', ' Quick Asset Turnover Rate', ' Cash Turnover Rate', ' Fixed Assets to Assets', ' Total assets to GNP price']\n"
     ]
    }
   ],
   "source": [
    "# 분산이 0.2 이상인 피처들만 선택하도록 학습\n",
    "sel = VarianceThreshold(threshold=0.2).fit(X)\n",
    "\n",
    "# 각 피처의 분산 확인\n",
    "variances = sel.variances_\n",
    "print(f'각 피처의 분산: {variances}')\n",
    "\n",
    "# 분산이 0.2 이상인 피처들만 선택 적용\n",
    "X_selected = sel.transform(X)\n",
    "\n",
    "# 선택된 피처들의 이름\n",
    "X_selected_names = [X_names[i] for i in sel.get_support(indices=True)]\n",
    "\n",
    "print(f'선택된 피처들의 이름: {X_selected_names}')"
   ]
  },
  {
   "cell_type": "markdown",
   "id": "74672cc8-44ef-459d-ab7b-2be9bb919f25",
   "metadata": {},
   "source": [
    "## 중간정리\n",
    "- <b> 분작 적은 것을 제외한 Feature: </b>\n",
    "[' Operating Expense Rate', ' Research and development expense rate', ' Interest-bearing debt interest rate', ' Revenue Per Share (Yuan ¥)', ' Total Asset Growth Rate', ' Net Value Growth Rate', ' Current Ratio', ' Quick Ratio', ' Total debt/Total net worth', ' Accounts Receivable Turnover', ' Average Collection Days', ' Inventory Turnover Rate (times)', ' Fixed Assets Turnover Frequency', ' Revenue per person', ' Allocation rate per person', ' Quick Assets/Current Liability', ' Cash/Current Liability', ' Inventory/Current Liability', ' Long-term Liability to Current Assets', ' Current Asset Turnover Rate', ' Quick Asset Turnover Rate', ' Cash Turnover Rate', ' Fixed Assets to Assets', ' Total assets to GNP price']"
   ]
  },
  {
   "cell_type": "code",
   "execution_count": 10,
   "id": "777ff27e-16f3-403d-ba1b-726c6543e51b",
   "metadata": {},
   "outputs": [
    {
     "ename": "KeyError",
     "evalue": "'Bankrupt?'",
     "output_type": "error",
     "traceback": [
      "\u001b[1;31m---------------------------------------------------------------------------\u001b[0m",
      "\u001b[1;31mKeyError\u001b[0m                                  Traceback (most recent call last)",
      "\u001b[1;32m~\\AppData\\Local\\Programs\\Python\\Python37\\lib\\site-packages\\pandas\\core\\indexes\\base.py\u001b[0m in \u001b[0;36mget_loc\u001b[1;34m(self, key, method, tolerance)\u001b[0m\n\u001b[0;32m   3360\u001b[0m             \u001b[1;32mtry\u001b[0m\u001b[1;33m:\u001b[0m\u001b[1;33m\u001b[0m\u001b[1;33m\u001b[0m\u001b[0m\n\u001b[1;32m-> 3361\u001b[1;33m                 \u001b[1;32mreturn\u001b[0m \u001b[0mself\u001b[0m\u001b[1;33m.\u001b[0m\u001b[0m_engine\u001b[0m\u001b[1;33m.\u001b[0m\u001b[0mget_loc\u001b[0m\u001b[1;33m(\u001b[0m\u001b[0mcasted_key\u001b[0m\u001b[1;33m)\u001b[0m\u001b[1;33m\u001b[0m\u001b[1;33m\u001b[0m\u001b[0m\n\u001b[0m\u001b[0;32m   3362\u001b[0m             \u001b[1;32mexcept\u001b[0m \u001b[0mKeyError\u001b[0m \u001b[1;32mas\u001b[0m \u001b[0merr\u001b[0m\u001b[1;33m:\u001b[0m\u001b[1;33m\u001b[0m\u001b[1;33m\u001b[0m\u001b[0m\n",
      "\u001b[1;32m~\\AppData\\Local\\Programs\\Python\\Python37\\lib\\site-packages\\pandas\\_libs\\index.pyx\u001b[0m in \u001b[0;36mpandas._libs.index.IndexEngine.get_loc\u001b[1;34m()\u001b[0m\n",
      "\u001b[1;32m~\\AppData\\Local\\Programs\\Python\\Python37\\lib\\site-packages\\pandas\\_libs\\index.pyx\u001b[0m in \u001b[0;36mpandas._libs.index.IndexEngine.get_loc\u001b[1;34m()\u001b[0m\n",
      "\u001b[1;32mpandas\\_libs\\hashtable_class_helper.pxi\u001b[0m in \u001b[0;36mpandas._libs.hashtable.PyObjectHashTable.get_item\u001b[1;34m()\u001b[0m\n",
      "\u001b[1;32mpandas\\_libs\\hashtable_class_helper.pxi\u001b[0m in \u001b[0;36mpandas._libs.hashtable.PyObjectHashTable.get_item\u001b[1;34m()\u001b[0m\n",
      "\u001b[1;31mKeyError\u001b[0m: 'Bankrupt?'",
      "\nThe above exception was the direct cause of the following exception:\n",
      "\u001b[1;31mKeyError\u001b[0m                                  Traceback (most recent call last)",
      "\u001b[1;32m~\\AppData\\Local\\Temp\\ipykernel_7448\\2213330011.py\u001b[0m in \u001b[0;36m<module>\u001b[1;34m\u001b[0m\n\u001b[0;32m      5\u001b[0m                    \u001b[1;34m' Inventory/Current Liability'\u001b[0m\u001b[1;33m,\u001b[0m \u001b[1;34m' Long-term Liability to Current Assets'\u001b[0m\u001b[1;33m,\u001b[0m \u001b[1;34m' Current Asset Turnover Rate'\u001b[0m\u001b[1;33m,\u001b[0m \u001b[1;34m' Quick Asset Turnover Rate'\u001b[0m\u001b[1;33m,\u001b[0m\u001b[1;33m\u001b[0m\u001b[1;33m\u001b[0m\u001b[0m\n\u001b[0;32m      6\u001b[0m                    ' Cash Turnover Rate', ' Fixed Assets to Assets', ' Total assets to GNP price']]\n\u001b[1;32m----> 7\u001b[1;33m \u001b[0my\u001b[0m\u001b[1;33m=\u001b[0m \u001b[0mdata\u001b[0m\u001b[1;33m[\u001b[0m\u001b[1;34m'Bankrupt?'\u001b[0m\u001b[1;33m]\u001b[0m\u001b[1;33m\u001b[0m\u001b[1;33m\u001b[0m\u001b[0m\n\u001b[0m",
      "\u001b[1;32m~\\AppData\\Local\\Programs\\Python\\Python37\\lib\\site-packages\\pandas\\core\\frame.py\u001b[0m in \u001b[0;36m__getitem__\u001b[1;34m(self, key)\u001b[0m\n\u001b[0;32m   3456\u001b[0m             \u001b[1;32mif\u001b[0m \u001b[0mself\u001b[0m\u001b[1;33m.\u001b[0m\u001b[0mcolumns\u001b[0m\u001b[1;33m.\u001b[0m\u001b[0mnlevels\u001b[0m \u001b[1;33m>\u001b[0m \u001b[1;36m1\u001b[0m\u001b[1;33m:\u001b[0m\u001b[1;33m\u001b[0m\u001b[1;33m\u001b[0m\u001b[0m\n\u001b[0;32m   3457\u001b[0m                 \u001b[1;32mreturn\u001b[0m \u001b[0mself\u001b[0m\u001b[1;33m.\u001b[0m\u001b[0m_getitem_multilevel\u001b[0m\u001b[1;33m(\u001b[0m\u001b[0mkey\u001b[0m\u001b[1;33m)\u001b[0m\u001b[1;33m\u001b[0m\u001b[1;33m\u001b[0m\u001b[0m\n\u001b[1;32m-> 3458\u001b[1;33m             \u001b[0mindexer\u001b[0m \u001b[1;33m=\u001b[0m \u001b[0mself\u001b[0m\u001b[1;33m.\u001b[0m\u001b[0mcolumns\u001b[0m\u001b[1;33m.\u001b[0m\u001b[0mget_loc\u001b[0m\u001b[1;33m(\u001b[0m\u001b[0mkey\u001b[0m\u001b[1;33m)\u001b[0m\u001b[1;33m\u001b[0m\u001b[1;33m\u001b[0m\u001b[0m\n\u001b[0m\u001b[0;32m   3459\u001b[0m             \u001b[1;32mif\u001b[0m \u001b[0mis_integer\u001b[0m\u001b[1;33m(\u001b[0m\u001b[0mindexer\u001b[0m\u001b[1;33m)\u001b[0m\u001b[1;33m:\u001b[0m\u001b[1;33m\u001b[0m\u001b[1;33m\u001b[0m\u001b[0m\n\u001b[0;32m   3460\u001b[0m                 \u001b[0mindexer\u001b[0m \u001b[1;33m=\u001b[0m \u001b[1;33m[\u001b[0m\u001b[0mindexer\u001b[0m\u001b[1;33m]\u001b[0m\u001b[1;33m\u001b[0m\u001b[1;33m\u001b[0m\u001b[0m\n",
      "\u001b[1;32m~\\AppData\\Local\\Programs\\Python\\Python37\\lib\\site-packages\\pandas\\core\\indexes\\base.py\u001b[0m in \u001b[0;36mget_loc\u001b[1;34m(self, key, method, tolerance)\u001b[0m\n\u001b[0;32m   3361\u001b[0m                 \u001b[1;32mreturn\u001b[0m \u001b[0mself\u001b[0m\u001b[1;33m.\u001b[0m\u001b[0m_engine\u001b[0m\u001b[1;33m.\u001b[0m\u001b[0mget_loc\u001b[0m\u001b[1;33m(\u001b[0m\u001b[0mcasted_key\u001b[0m\u001b[1;33m)\u001b[0m\u001b[1;33m\u001b[0m\u001b[1;33m\u001b[0m\u001b[0m\n\u001b[0;32m   3362\u001b[0m             \u001b[1;32mexcept\u001b[0m \u001b[0mKeyError\u001b[0m \u001b[1;32mas\u001b[0m \u001b[0merr\u001b[0m\u001b[1;33m:\u001b[0m\u001b[1;33m\u001b[0m\u001b[1;33m\u001b[0m\u001b[0m\n\u001b[1;32m-> 3363\u001b[1;33m                 \u001b[1;32mraise\u001b[0m \u001b[0mKeyError\u001b[0m\u001b[1;33m(\u001b[0m\u001b[0mkey\u001b[0m\u001b[1;33m)\u001b[0m \u001b[1;32mfrom\u001b[0m \u001b[0merr\u001b[0m\u001b[1;33m\u001b[0m\u001b[1;33m\u001b[0m\u001b[0m\n\u001b[0m\u001b[0;32m   3364\u001b[0m \u001b[1;33m\u001b[0m\u001b[0m\n\u001b[0;32m   3365\u001b[0m         \u001b[1;32mif\u001b[0m \u001b[0mis_scalar\u001b[0m\u001b[1;33m(\u001b[0m\u001b[0mkey\u001b[0m\u001b[1;33m)\u001b[0m \u001b[1;32mand\u001b[0m \u001b[0misna\u001b[0m\u001b[1;33m(\u001b[0m\u001b[0mkey\u001b[0m\u001b[1;33m)\u001b[0m \u001b[1;32mand\u001b[0m \u001b[1;32mnot\u001b[0m \u001b[0mself\u001b[0m\u001b[1;33m.\u001b[0m\u001b[0mhasnans\u001b[0m\u001b[1;33m:\u001b[0m\u001b[1;33m\u001b[0m\u001b[1;33m\u001b[0m\u001b[0m\n",
      "\u001b[1;31mKeyError\u001b[0m: 'Bankrupt?'"
     ]
    }
   ],
   "source": [
    "data = data[[' Operating Expense Rate', ' Research and development expense rate', ' Interest-bearing debt interest rate',\n",
    "                   ' Revenue Per Share (Yuan ¥)', ' Total Asset Growth Rate', ' Net Value Growth Rate', ' Current Ratio',\n",
    "                   ' Quick Ratio', ' Total debt/Total net worth', ' Accounts Receivable Turnover', ' Average Collection Days', ' Inventory Turnover Rate (times)',\n",
    "                   ' Fixed Assets Turnover Frequency', ' Revenue per person', ' Allocation rate per person', ' Quick Assets/Current Liability', ' Cash/Current Liability',\n",
    "                   ' Inventory/Current Liability', ' Long-term Liability to Current Assets', ' Current Asset Turnover Rate', ' Quick Asset Turnover Rate',\n",
    "                   ' Cash Turnover Rate', ' Fixed Assets to Assets', ' Total assets to GNP price']]\n",
    "y= data['Bankrupt?']"
   ]
  },
  {
   "cell_type": "code",
   "execution_count": 9,
   "id": "4df789a5-c15d-4487-a15b-3bf7a109b652",
   "metadata": {
    "tags": []
   },
   "outputs": [
    {
     "ename": "NameError",
     "evalue": "name 'plt' is not defined",
     "output_type": "error",
     "traceback": [
      "\u001b[1;31m---------------------------------------------------------------------------\u001b[0m",
      "\u001b[1;31mNameError\u001b[0m                                 Traceback (most recent call last)",
      "\u001b[1;32m~\\AppData\\Local\\Temp\\ipykernel_7448\\55309499.py\u001b[0m in \u001b[0;36m<module>\u001b[1;34m\u001b[0m\n\u001b[0;32m      1\u001b[0m \u001b[1;31m#피처 간의 상관관계 분석\u001b[0m\u001b[1;33m\u001b[0m\u001b[1;33m\u001b[0m\u001b[1;33m\u001b[0m\u001b[0m\n\u001b[0;32m      2\u001b[0m \u001b[0mcorr_matrix\u001b[0m \u001b[1;33m=\u001b[0m \u001b[0mdata\u001b[0m\u001b[1;33m.\u001b[0m\u001b[0mcorr\u001b[0m\u001b[1;33m(\u001b[0m\u001b[1;33m)\u001b[0m\u001b[1;33m\u001b[0m\u001b[1;33m\u001b[0m\u001b[0m\n\u001b[1;32m----> 3\u001b[1;33m \u001b[0mplt\u001b[0m\u001b[1;33m.\u001b[0m\u001b[0mfigure\u001b[0m\u001b[1;33m(\u001b[0m\u001b[0mfigsize\u001b[0m\u001b[1;33m=\u001b[0m\u001b[1;33m(\u001b[0m\u001b[1;36m12\u001b[0m\u001b[1;33m,\u001b[0m \u001b[1;36m10\u001b[0m\u001b[1;33m)\u001b[0m\u001b[1;33m)\u001b[0m\u001b[1;33m\u001b[0m\u001b[1;33m\u001b[0m\u001b[0m\n\u001b[0m\u001b[0;32m      4\u001b[0m \u001b[0msns\u001b[0m\u001b[1;33m.\u001b[0m\u001b[0mheatmap\u001b[0m\u001b[1;33m(\u001b[0m\u001b[0mcorr_matrix\u001b[0m\u001b[1;33m,\u001b[0m \u001b[0mannot\u001b[0m\u001b[1;33m=\u001b[0m\u001b[1;32mFalse\u001b[0m\u001b[1;33m,\u001b[0m \u001b[0mcmap\u001b[0m\u001b[1;33m=\u001b[0m\u001b[1;34m'coolwarm'\u001b[0m\u001b[1;33m,\u001b[0m \u001b[0mlinewidths\u001b[0m\u001b[1;33m=\u001b[0m\u001b[1;36m0.5\u001b[0m\u001b[1;33m)\u001b[0m\u001b[1;33m\u001b[0m\u001b[1;33m\u001b[0m\u001b[0m\n\u001b[0;32m      5\u001b[0m \u001b[0mplt\u001b[0m\u001b[1;33m.\u001b[0m\u001b[0mtitle\u001b[0m\u001b[1;33m(\u001b[0m\u001b[1;34m'Feature Correlation Matrix'\u001b[0m\u001b[1;33m)\u001b[0m\u001b[1;33m\u001b[0m\u001b[1;33m\u001b[0m\u001b[0m\n",
      "\u001b[1;31mNameError\u001b[0m: name 'plt' is not defined"
     ]
    }
   ],
   "source": [
    "#피처 간의 상관관계 분석\n",
    "corr_matrix = data.corr()\n",
    "\n",
    "plt.show()# 타겟 변수와 상관관계(절대값)가 높은 피처 상위 n개\n",
    "corr_with_target = corr_matrix['Bankrupt?'].abs().sort_values(ascending=False)[:10]\n",
    "print(corr_with_target)"
   ]
  },
  {
   "cell_type": "code",
   "execution_count": null,
   "id": "11e83c74-eb5b-4b12-9f7f-021e7d349a6c",
   "metadata": {},
   "outputs": [],
   "source": []
  }
 ],
 "metadata": {
  "kernelspec": {
   "display_name": "Python 3 (ipykernel)",
   "language": "python",
   "name": "python3"
  },
  "language_info": {
   "codemirror_mode": {
    "name": "ipython",
    "version": 3
   },
   "file_extension": ".py",
   "mimetype": "text/x-python",
   "name": "python",
   "nbconvert_exporter": "python",
   "pygments_lexer": "ipython3",
   "version": "3.7.9"
  }
 },
 "nbformat": 4,
 "nbformat_minor": 5
}
