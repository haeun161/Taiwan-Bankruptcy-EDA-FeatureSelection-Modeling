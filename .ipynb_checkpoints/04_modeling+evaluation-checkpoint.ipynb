{
 "cells": [
  {
   "cell_type": "markdown",
   "id": "9cf8d688-bb2f-4fc3-ab3e-33562b22f9d3",
   "metadata": {},
   "source": [
    "##  선정된 피처로 모델 학습 및 평가\n",
    "- Feature Selection에서 분산 고려한 경우\n",
    "- Original과 SMOTE로 증간된 데이터에서 평가\n",
    "- 평가지표 정확도, 정밀도, f1, 재현율으로 평가해서 어떤 모델과 어떤 피처가 최적인지 테스트"
   ]
  },
  {
   "cell_type": "code",
   "execution_count": 1,
   "id": "d9a8d8f9-bf79-4be8-8dce-99a6bda623dc",
   "metadata": {},
   "outputs": [],
   "source": [
    "import pandas as pd\n",
    "from sklearn.linear_model import LogisticRegression\n",
    "from sklearn.ensemble import RandomForestClassifier\n",
    "from sklearn.svm import SVC\n",
    "from sklearn.feature_selection import RFECV\n",
    "from sklearn.model_selection import train_test_split, StratifiedKFold\n",
    "from sklearn.metrics import accuracy_score, precision_score, recall_score, f1_score"
   ]
  },
  {
   "cell_type": "code",
   "execution_count": 2,
   "id": "c56f81d8-5eb0-4ddb-a9c6-35de8f44de2b",
   "metadata": {
    "tags": []
   },
   "outputs": [],
   "source": [
    "# 파일 경로 설정\n",
    "file_path1 = \"data.csv\"\n",
    "file_path2 = \"oversampled_data.csv\"\n",
    "\n",
    "# CSV 파일을 DataFrame으로 불러오기\n",
    "data1 = pd.read_csv(file_path1)\n",
    "data2 = pd.read_csv(file_path2)"
   ]
  },
  {
   "cell_type": "code",
   "execution_count": 3,
   "id": "7fd84498-229c-4251-b8fa-fa31fd4b7a6a",
   "metadata": {
    "tags": []
   },
   "outputs": [],
   "source": [
    "correlation_features = [' Net Income to Total Assets', ' ROA(A) before interest and % after tax', \n",
    "                        ' ROA(B) before interest and depreciation after tax', ' ROA(C) before interest and depreciation before interest', \n",
    "                        ' Net worth/Assets', ' Debt ratio %', ' Persistent EPS in the Last Four Seasons', \n",
    "                        ' Retained Earnings to Total Assets', ' Net profit before tax/Paid-in capital', ' Per Share Net profit before tax (Yuan ¥)']\n",
    "\n",
    "forward_features = [' Net Income to Total Assets', ' ROA(A) before interest and % after tax', ' ROA(B) before interest and depreciation after tax', ' ROA(C) before interest and depreciation before interest', ' Net worth/Assets', ' Persistent EPS in the Last Four Seasons', ' Net profit before tax/Paid-in capital', ' Per Share Net profit before tax (Yuan ¥)']\n",
    "\n",
    "backward_features = [' Net Income to Total Assets', ' ROA(A) before interest and % after tax', ' ROA(B) before interest and depreciation after tax', ' ROA(C) before interest and depreciation before interest', ' Net worth/Assets', ' Debt ratio %', ' Persistent EPS in the Last Four Seasons', ' Retained Earnings to Total Assets', ' Net profit before tax/Paid-in capital', ' Per Share Net profit before tax (Yuan ¥)']\n",
    "\n",
    "stepwise_features = [' Net Income to Total Assets', ' ROA(A) before interest and % after tax', ' ROA(B) before interest and depreciation after tax', ' Net worth/Assets', ' Persistent EPS in the Last Four Seasons', ' Net profit before tax/Paid-in capital', ' Per Share Net profit before tax (Yuan ¥)']\n",
    "\n",
    "\n",
    "# RFE로 선택된 Feature\n",
    "rfe_features = [' Non-industry income and expenditure/revenue', ' Interest-bearing debt interest rate', ' Net Value Per Share (B)',\n",
    "                ' Persistent EPS in the Last Four Seasons', ' Net Value Growth Rate', ' Quick Ratio', ' Interest Expense Ratio',\n",
    "                ' Total debt/Total net worth', ' Borrowing dependency', ' Net profit before tax/Paid-in capital',\n",
    "                ' Accounts Receivable Turnover', ' Cash/Total Assets', ' Working Capital/Equity', \" Net Income to Stockholder's Equity\",\n",
    "                ' Degree of Financial Leverage (DFL)']\n",
    "\n",
    "# RFECV로 선택된 Feature\n",
    "rfecv_features = [' ROA(A) before interest and % after tax', ' After-tax net Interest Rate',\n",
    "                  ' Non-industry income and expenditure/revenue', ' Continuous interest rate (after tax)', ' Cash flow rate',\n",
    "                  ' Tax rate (A)', ' Net Value Per Share (B)', ' Net Value Per Share (A)', ' Net Value Per Share (C)',\n",
    "                  ' Operating Profit Per Share (Yuan ¥)', ' Total Asset Growth Rate', ' Net Value Growth Rate', ' Current Ratio',\n",
    "                  ' Quick Ratio', ' Total debt/Total net worth', ' Debt ratio %', ' Long-term fund suitability ratio (A)',\n",
    "                  ' Operating profit/Paid-in capital', ' Total Asset Turnover', ' Accounts Receivable Turnover', ' Average Collection Days',\n",
    "                  ' Inventory Turnover Rate (times)', ' Net Worth Turnover Rate (times)', ' Revenue per person', ' Operating profit per person',\n",
    "                  ' Allocation rate per person', ' Current Assets/Total Assets', ' Cash/Total Assets', ' Quick Assets/Current Liability',\n",
    "                  ' Operating Funds to Liability', ' Current Liabilities/Liability', ' Retained Earnings to Total Assets', ' Liability-Assets Flag',\n",
    "                  ' Net Income to Total Assets', ' Total assets to GNP price', ' Gross Profit to Sales', \" Net Income to Stockholder's Equity\",\n",
    "                  ' Liability to Equity', ' Degree of Financial Leverage (DFL)', ' Net Income Flag']\n",
    "\n",
    "variance_feature = [' Operating Expense Rate', ' Research and development expense rate', ' Interest-bearing debt interest rate',\n",
    "                   ' Revenue Per Share (Yuan ¥)', ' Total Asset Growth Rate', ' Net Value Growth Rate', ' Current Ratio',\n",
    "                   ' Quick Ratio', ' Total debt/Total net worth', ' Accounts Receivable Turnover', ' Average Collection Days', ' Inventory Turnover Rate (times)',\n",
    "                   ' Fixed Assets Turnover Frequency', ' Revenue per person', ' Allocation rate per person', ' Quick Assets/Current Liability', ' Cash/Current Liability',\n",
    "                   ' Inventory/Current Liability', ' Long-term Liability to Current Assets', ' Current Asset Turnover Rate', ' Quick Asset Turnover Rate',\n",
    "                   ' Cash Turnover Rate', ' Fixed Assets to Assets', ' Total assets to GNP price']"
   ]
  },
  {
   "cell_type": "code",
   "execution_count": 4,
   "id": "36f74d10-6411-46f4-b998-bf310c1648ab",
   "metadata": {
    "tags": []
   },
   "outputs": [],
   "source": [
    "# 독립변수와 종속변수 설정\n",
    "X1 = data1[correlation_features]\n",
    "X2 = data1[forward_features]\n",
    "X3 = data1[backward_features]\n",
    "X4 = data1[stepwise_features]\n",
    "X5 = data1[rfe_features]\n",
    "X6 = data1[rfecv_features]\n",
    "X7 = data1[variance_feature]"
   ]
  },
  {
   "cell_type": "code",
   "execution_count": 5,
   "id": "503ff54e-12c7-46a4-aa24-9f0379e0b9f3",
   "metadata": {
    "tags": []
   },
   "outputs": [],
   "source": [
    "# 독립변수와 종속변수 설정\n",
    "y = data1['Bankrupt?']"
   ]
  },
  {
   "cell_type": "code",
   "execution_count": 6,
   "id": "7cd25947-5f38-4f40-bd9b-b871799e18b1",
   "metadata": {
    "tags": []
   },
   "outputs": [],
   "source": [
    "# 결과를 정리할 DataFrame 생성 함수\n",
    "def create_results_df():\n",
    "    return pd.DataFrame(columns=['Model', 'Dataset', 'Accuracy', 'Precision', 'Recall', 'F1'])"
   ]
  },
  {
   "cell_type": "code",
   "execution_count": 7,
   "id": "5666a264-76f8-4198-b725-61d874ceea3b",
   "metadata": {
    "tags": []
   },
   "outputs": [],
   "source": [
    "# 모델 평가 함수\n",
    "def evaluate_model(model, model_name, X, y):\n",
    "    \n",
    "    X_train, X_test, y_train, y_test = train_test_split(X, y, test_size=0.3, random_state=42)\n",
    "    \n",
    "    results = create_results_df()\n",
    "    \n",
    "    # 모델 학습\n",
    "    model.fit(X_train, y_train)\n",
    "    \n",
    "    # 훈련 데이터 성능 평가\n",
    "    y_train_pred = model.predict(X_train)\n",
    "    train_accuracy = accuracy_score(y_train, y_train_pred)\n",
    "    train_precision = precision_score(y_train, y_train_pred)\n",
    "    train_recall = recall_score(y_train, y_train_pred)\n",
    "    train_f1 = f1_score(y_train, y_train_pred)\n",
    "\n",
    "    # 결과 저장 (훈련 데이터)\n",
    "    train_row = pd.DataFrame({\n",
    "        'Model': [model_name],\n",
    "        'Dataset': ['Train'],\n",
    "        'Accuracy': [train_accuracy],\n",
    "        'Precision': [train_precision],\n",
    "        'Recall': [train_recall],\n",
    "        'F1': [train_f1],\n",
    "    })\n",
    "    results = pd.concat([results, train_row], ignore_index=True)\n",
    "    \n",
    "    # 테스트 데이터 성능 평가\n",
    "    y_test_pred = model.predict(X_test)\n",
    "    test_accuracy = accuracy_score(y_test, y_test_pred)\n",
    "    test_precision = precision_score(y_test, y_test_pred)\n",
    "    test_recall = recall_score(y_test, y_test_pred)\n",
    "    test_f1 = f1_score(y_test, y_test_pred)\n",
    "\n",
    "    # 결과 저장 (테스트 데이터)\n",
    "    test_row = pd.DataFrame({\n",
    "        'Model': [model_name],\n",
    "        'Dataset': ['Test'],\n",
    "        'Accuracy': [test_accuracy],\n",
    "        'Precision': [test_precision],\n",
    "        'Recall': [test_recall],\n",
    "        'F1': [test_f1],\n",
    "    })\n",
    "    results = pd.concat([results, test_row], ignore_index=True)\n",
    "    \n",
    "    return results"
   ]
  },
  {
   "cell_type": "code",
   "execution_count": 43,
   "id": "feef8151-2a6d-42f5-934f-bcc18b20ee8b",
   "metadata": {
    "tags": []
   },
   "outputs": [
    {
     "ename": "NameError",
     "evalue": "name 'X_train1' is not defined",
     "output_type": "error",
     "traceback": [
      "\u001b[1;31m---------------------------------------------------------------------------\u001b[0m",
      "\u001b[1;31mNameError\u001b[0m                                 Traceback (most recent call last)",
      "\u001b[1;32m~\\AppData\\Local\\Temp\\ipykernel_19432\\1482593294.py\u001b[0m in \u001b[0;36m<module>\u001b[1;34m\u001b[0m\n\u001b[0;32m      1\u001b[0m \u001b[1;31m# Logistic Regression\u001b[0m\u001b[1;33m\u001b[0m\u001b[1;33m\u001b[0m\u001b[1;33m\u001b[0m\u001b[0m\n\u001b[0;32m      2\u001b[0m \u001b[0mlog_reg_model\u001b[0m \u001b[1;33m=\u001b[0m \u001b[0mLogisticRegression\u001b[0m\u001b[1;33m(\u001b[0m\u001b[0mmax_iter\u001b[0m\u001b[1;33m=\u001b[0m\u001b[1;36m3000\u001b[0m\u001b[1;33m)\u001b[0m\u001b[1;33m\u001b[0m\u001b[1;33m\u001b[0m\u001b[0m\n\u001b[1;32m----> 3\u001b[1;33m \u001b[0mlog_reg_results\u001b[0m \u001b[1;33m=\u001b[0m \u001b[0mevaluate_model\u001b[0m\u001b[1;33m(\u001b[0m\u001b[0mlog_reg_model\u001b[0m\u001b[1;33m,\u001b[0m \u001b[1;34m'LogisticRegression'\u001b[0m\u001b[1;33m,\u001b[0m \u001b[0mX_train1\u001b[0m\u001b[1;33m,\u001b[0m \u001b[0my_train1\u001b[0m\u001b[1;33m,\u001b[0m \u001b[0mX_test1\u001b[0m\u001b[1;33m,\u001b[0m \u001b[0my_test1\u001b[0m\u001b[1;33m)\u001b[0m\u001b[1;33m\u001b[0m\u001b[1;33m\u001b[0m\u001b[0m\n\u001b[0m\u001b[0;32m      4\u001b[0m \u001b[0mprint\u001b[0m\u001b[1;33m(\u001b[0m\u001b[0mlog_reg_results\u001b[0m\u001b[1;33m)\u001b[0m\u001b[1;33m\u001b[0m\u001b[1;33m\u001b[0m\u001b[0m\n",
      "\u001b[1;31mNameError\u001b[0m: name 'X_train1' is not defined"
     ]
    }
   ],
   "source": [
    "# Logistic Regression\n",
    "\n",
    "log_reg_model = LogisticRegression(max_iter=1000)\n",
    "\n",
    "for X_data in enumerate([X1, X2, X3, X4, X5, X6, X7], 1):\n",
    "\n",
    "log_reg_results = evaluate_model(log_reg_model, 'LogisticRegression', X_train1, y_train1, X_test1, y_test1)\n",
    "print(log_reg_results)"
   ]
  },
  {
   "cell_type": "code",
   "execution_count": null,
   "id": "e40eebae-205d-4a0a-8710-42c33b082810",
   "metadata": {
    "tags": []
   },
   "outputs": [],
   "source": [
    "# Random Forest Classifier\n",
    "rf_model = RandomForestClassifier(n_estimators=1000,  # 기본 트리의 수\n",
    "        max_depth=5,  # 트리의 최대 깊이 제한\n",
    "        min_samples_split=2,  # 노드를 분할하는 데 필요한 최소 샘플 수\n",
    "        min_samples_leaf=1,  # 리프 노드에 있어야 하는 최소 샘플 수\n",
    "        max_features='sqrt',  # 각 분할에 사용할 피처의 최대 수\n",
    "        random_state=111  # 결과 재현성을 위한 랜덤 시드\n",
    "    )\n",
    "rf_results = evaluate_model(rf_model, 'RandomForestClassifier', X_train1, y_train1, X_test1, y_test1)\n",
    "print(rf_results)"
   ]
  },
  {
   "cell_type": "code",
   "execution_count": null,
   "id": "454631f7-771e-45e9-b4f5-70911e196114",
   "metadata": {
    "tags": []
   },
   "outputs": [],
   "source": [
    "# SVC\n",
    "svc_model = SVC(kernel='linear')\n",
    "svc_results = evaluate_model(svc_model, 'SVC', X_train1, y_train1, X_test1, y_test1)\n",
    "print(svc_results)"
   ]
  },
  {
   "cell_type": "code",
   "execution_count": 11,
   "id": "404195b4-5c55-4f40-92b7-e59e16e7dfb3",
   "metadata": {
    "tags": []
   },
   "outputs": [
    {
     "name": "stdout",
     "output_type": "stream",
     "text": [
      "                Model Dataset  Accuracy  Precision    Recall        F1\n",
      "0  LogisticRegression   Train  0.500189   0.499329  0.990120  0.663864\n",
      "1  LogisticRegression    Test  0.508712   0.507480  0.990269  0.671063\n"
     ]
    }
   ],
   "source": [
    "# Logistic Regression\n",
    "log_reg_model = LogisticRegression(max_iter=3000)\n",
    "log_reg_results = evaluate_model(log_reg_model, 'LogisticRegression', X_train2, y_train2, X_test2, y_test2)\n",
    "print(log_reg_results)"
   ]
  },
  {
   "cell_type": "code",
   "execution_count": 12,
   "id": "5f289044-3df1-4927-9e23-dea21ebcd269",
   "metadata": {
    "tags": []
   },
   "outputs": [
    {
     "name": "stdout",
     "output_type": "stream",
     "text": [
      "                    Model Dataset  Accuracy  Precision    Recall        F1\n",
      "0  RandomForestClassifier   Train  0.922144   0.902483  0.946038  0.923748\n",
      "1  RandomForestClassifier    Test  0.914015   0.903860  0.928892  0.916205\n"
     ]
    }
   ],
   "source": [
    "# Random Forest Classifier\n",
    "rf_model =  RandomForestClassifier(n_estimators=1000,  # 기본 트리의 수\n",
    "        max_depth=5,  # 트리의 최대 깊이 제한\n",
    "        min_samples_split=2,  # 노드를 분할하는 데 필요한 최소 샘플 수\n",
    "        min_samples_leaf=1,  # 리프 노드에 있어야 하는 최소 샘플 수\n",
    "        max_features='sqrt',  # 각 분할에 사용할 피처의 최대 수\n",
    "        random_state=111  # 결과 재현성을 위한 랜덤 시드\n",
    "    )\n",
    "rf_results = evaluate_model(rf_model, 'RandomForestClassifier', X_train2, y_train2, X_test2, y_test2)\n",
    "print(rf_results)"
   ]
  },
  {
   "cell_type": "code",
   "execution_count": null,
   "id": "6be426cc-373f-404b-b044-ec7d68a93d8f",
   "metadata": {
    "tags": []
   },
   "outputs": [],
   "source": [
    "# SVC\n",
    "svc_model = SVC(kernel='linear')\n",
    "svc_results = evaluate_model(svc_model, 'SVC', X_train2, y_train2, X_test2, y_test2)\n",
    "print(svc_results)"
   ]
  },
  {
   "cell_type": "code",
   "execution_count": null,
   "id": "72a0e8cc-3c5a-46b0-9dad-16be28290775",
   "metadata": {},
   "outputs": [],
   "source": []
  }
 ],
 "metadata": {
  "kernelspec": {
   "display_name": "Python 3 (ipykernel)",
   "language": "python",
   "name": "python3"
  },
  "language_info": {
   "codemirror_mode": {
    "name": "ipython",
    "version": 3
   },
   "file_extension": ".py",
   "mimetype": "text/x-python",
   "name": "python",
   "nbconvert_exporter": "python",
   "pygments_lexer": "ipython3",
   "version": "3.7.9"
  }
 },
 "nbformat": 4,
 "nbformat_minor": 5
}
