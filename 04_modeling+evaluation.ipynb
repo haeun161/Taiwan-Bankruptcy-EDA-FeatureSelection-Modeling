{
 "cells": [
  {
   "cell_type": "markdown",
   "id": "9cf8d688-bb2f-4fc3-ab3e-33562b22f9d3",
   "metadata": {},
   "source": [
    "##  선정된 피처로 모델 학습 및 평가\n",
    "- Feature Selection에서 나온 feature\n",
    "- Original과 SMOTE로 증간된 데이터에서 평가\n",
    "- 평가지표 정확도, 정밀도, f1, 재현율으로 평가해서 어떤 모델과 어떤 피처가 최적인지 테스트"
   ]
  },
  {
   "cell_type": "code",
   "execution_count": 1,
   "id": "d9a8d8f9-bf79-4be8-8dce-99a6bda623dc",
   "metadata": {},
   "outputs": [],
   "source": [
    "import pandas as pd\n",
    "from sklearn.linear_model import LogisticRegression\n",
    "from sklearn.ensemble import RandomForestClassifier\n",
    "from sklearn.svm import SVC\n",
    "from sklearn.feature_selection import RFECV\n",
    "from sklearn.model_selection import train_test_split, StratifiedKFold\n",
    "from sklearn.metrics import accuracy_score, precision_score, recall_score, f1_score"
   ]
  },
  {
   "cell_type": "code",
   "execution_count": 2,
   "id": "c56f81d8-5eb0-4ddb-a9c6-35de8f44de2b",
   "metadata": {
    "tags": []
   },
   "outputs": [],
   "source": [
    "# 파일 경로 설정\n",
    "file_path1 = \"data.csv\"\n",
    "file_path2 = \"oversampled_data.csv\"\n",
    "\n",
    "# CSV 파일을 DataFrame으로 불러오기\n",
    "data1 = pd.read_csv(file_path1)\n",
    "data2 = pd.read_csv(file_path2)"
   ]
  },
  {
   "cell_type": "code",
   "execution_count": 3,
   "id": "7fd84498-229c-4251-b8fa-fa31fd4b7a6a",
   "metadata": {
    "tags": []
   },
   "outputs": [],
   "source": [
    "correlation_features = [' Net Income to Total Assets', ' ROA(A) before interest and % after tax', \n",
    "                        ' ROA(B) before interest and depreciation after tax', ' ROA(C) before interest and depreciation before interest', \n",
    "                        ' Net worth/Assets', ' Debt ratio %', ' Persistent EPS in the Last Four Seasons', \n",
    "                        ' Retained Earnings to Total Assets', ' Net profit before tax/Paid-in capital', ' Per Share Net profit before tax (Yuan ¥)']\n",
    "\n",
    "forward_features = [' Net Income to Total Assets', ' ROA(A) before interest and % after tax', ' ROA(B) before interest and depreciation after tax', ' ROA(C) before interest and depreciation before interest', ' Net worth/Assets', ' Persistent EPS in the Last Four Seasons', ' Net profit before tax/Paid-in capital', ' Per Share Net profit before tax (Yuan ¥)']\n",
    "\n",
    "backward_features = [' Net Income to Total Assets', ' ROA(A) before interest and % after tax', ' ROA(B) before interest and depreciation after tax', ' ROA(C) before interest and depreciation before interest', ' Net worth/Assets', ' Debt ratio %', ' Persistent EPS in the Last Four Seasons', ' Retained Earnings to Total Assets', ' Net profit before tax/Paid-in capital', ' Per Share Net profit before tax (Yuan ¥)']\n",
    "\n",
    "stepwise_features = [' Net Income to Total Assets', ' ROA(A) before interest and % after tax', ' ROA(B) before interest and depreciation after tax', ' Net worth/Assets', ' Persistent EPS in the Last Four Seasons', ' Net profit before tax/Paid-in capital', ' Per Share Net profit before tax (Yuan ¥)']\n",
    "\n",
    "\n",
    "# RFE로 선택된 Feature\n",
    "rfe_features = [' Non-industry income and expenditure/revenue', ' Interest-bearing debt interest rate', ' Net Value Per Share (B)',\n",
    "                ' Persistent EPS in the Last Four Seasons', ' Net Value Growth Rate', ' Quick Ratio', ' Interest Expense Ratio',\n",
    "                ' Total debt/Total net worth', ' Borrowing dependency', ' Net profit before tax/Paid-in capital',\n",
    "                ' Accounts Receivable Turnover', ' Cash/Total Assets', ' Working Capital/Equity', \" Net Income to Stockholder's Equity\",\n",
    "                ' Degree of Financial Leverage (DFL)']\n",
    "\n",
    "# RFECV로 선택된 Feature\n",
    "rfecv_features = [' ROA(A) before interest and % after tax', ' After-tax net Interest Rate',\n",
    "                  ' Non-industry income and expenditure/revenue', ' Continuous interest rate (after tax)', ' Cash flow rate',\n",
    "                  ' Tax rate (A)', ' Net Value Per Share (B)', ' Net Value Per Share (A)', ' Net Value Per Share (C)',\n",
    "                  ' Operating Profit Per Share (Yuan ¥)', ' Total Asset Growth Rate', ' Net Value Growth Rate', ' Current Ratio',\n",
    "                  ' Quick Ratio', ' Total debt/Total net worth', ' Debt ratio %', ' Long-term fund suitability ratio (A)',\n",
    "                  ' Operating profit/Paid-in capital', ' Total Asset Turnover', ' Accounts Receivable Turnover', ' Average Collection Days',\n",
    "                  ' Inventory Turnover Rate (times)', ' Net Worth Turnover Rate (times)', ' Revenue per person', ' Operating profit per person',\n",
    "                  ' Allocation rate per person', ' Current Assets/Total Assets', ' Cash/Total Assets', ' Quick Assets/Current Liability',\n",
    "                  ' Operating Funds to Liability', ' Current Liabilities/Liability', ' Retained Earnings to Total Assets', ' Liability-Assets Flag',\n",
    "                  ' Net Income to Total Assets', ' Total assets to GNP price', ' Gross Profit to Sales', \" Net Income to Stockholder's Equity\",\n",
    "                  ' Liability to Equity', ' Degree of Financial Leverage (DFL)', ' Net Income Flag']\n",
    "\n",
    "variance_feature = [' Operating Expense Rate', ' Research and development expense rate', ' Interest-bearing debt interest rate',\n",
    "                   ' Revenue Per Share (Yuan ¥)', ' Total Asset Growth Rate', ' Net Value Growth Rate', ' Current Ratio',\n",
    "                   ' Quick Ratio', ' Total debt/Total net worth', ' Accounts Receivable Turnover', ' Average Collection Days', ' Inventory Turnover Rate (times)',\n",
    "                   ' Fixed Assets Turnover Frequency', ' Revenue per person', ' Allocation rate per person', ' Quick Assets/Current Liability', ' Cash/Current Liability',\n",
    "                   ' Inventory/Current Liability', ' Long-term Liability to Current Assets', ' Current Asset Turnover Rate', ' Quick Asset Turnover Rate',\n",
    "                   ' Cash Turnover Rate', ' Fixed Assets to Assets', ' Total assets to GNP price']"
   ]
  },
  {
   "cell_type": "code",
   "execution_count": 4,
   "id": "36f74d10-6411-46f4-b998-bf310c1648ab",
   "metadata": {
    "tags": []
   },
   "outputs": [],
   "source": [
    "# 독립변수와 종속변수 설정\n",
    "X1 = data1[correlation_features]\n",
    "X2 = data1[forward_features]\n",
    "X3 = data1[backward_features]\n",
    "X4 = data1[stepwise_features]\n",
    "X5 = data1[rfe_features]\n",
    "X6 = data1[rfecv_features]\n",
    "X7 = data1[variance_feature]"
   ]
  },
  {
   "cell_type": "code",
   "execution_count": 5,
   "id": "503ff54e-12c7-46a4-aa24-9f0379e0b9f3",
   "metadata": {
    "tags": []
   },
   "outputs": [],
   "source": [
    "# 독립변수와 종속변수 설정\n",
    "y = data1['Bankrupt?']"
   ]
  },
  {
   "cell_type": "code",
   "execution_count": 6,
   "id": "7cd25947-5f38-4f40-bd9b-b871799e18b1",
   "metadata": {
    "tags": []
   },
   "outputs": [],
   "source": [
    "# 결과를 정리할 DataFrame 생성 함수\n",
    "def create_results_df():\n",
    "    return pd.DataFrame(columns=['Model', 'Dataset', 'Accuracy', 'Precision', 'Recall', 'F1'])"
   ]
  },
  {
   "cell_type": "code",
   "execution_count": 9,
   "id": "5666a264-76f8-4198-b725-61d874ceea3b",
   "metadata": {
    "tags": []
   },
   "outputs": [],
   "source": [
    "# 모델 평가 함수\n",
    "def evaluate_model(model, model_name, X, y):\n",
    "    \n",
    "    X_train, X_test, y_train, y_test = train_test_split(X, y, test_size=0.3, random_state=42)\n",
    "    \n",
    "    results = create_results_df()\n",
    "    \n",
    "    # 모델 학습\n",
    "    model.fit(X_train, y_train)\n",
    "    \n",
    "    # 훈련 데이터 성능 평가\n",
    "    y_train_pred = model.predict(X_train)\n",
    "    train_accuracy = accuracy_score(y_train, y_train_pred)\n",
    "    train_precision = precision_score(y_train, y_train_pred, zero_division=1)\n",
    "    train_recall = recall_score(y_train, y_train_pred, zero_division=1)\n",
    "    train_f1 = f1_score(y_train, y_train_pred, zero_division=1)\n",
    "\n",
    "    # 결과 저장 (훈련 데이터)\n",
    "    train_row = pd.DataFrame({\n",
    "        'Model': [model_name],\n",
    "        'Dataset': ['Train'],\n",
    "        'Accuracy': [train_accuracy],\n",
    "        'Precision': [train_precision],\n",
    "        'Recall': [train_recall],\n",
    "        'F1': [train_f1],\n",
    "    })\n",
    "    results = pd.concat([results, train_row], ignore_index=True)\n",
    "    \n",
    "    # 테스트 데이터 성능 평가\n",
    "    y_test_pred = model.predict(X_test)\n",
    "    test_accuracy = accuracy_score(y_test, y_test_pred)\n",
    "    test_precision = precision_score(y_test, y_test_pred, zero_division=1)\n",
    "    test_recall = recall_score(y_test, y_test_pred, zero_division=1)\n",
    "    test_f1 = f1_score(y_test, y_test_pred, zero_division=1)\n",
    "\n",
    "    # 결과 저장 (테스트 데이터)\n",
    "    test_row = pd.DataFrame({\n",
    "        'Model': [model_name],\n",
    "        'Dataset': ['Test'],\n",
    "        'Accuracy': [test_accuracy],\n",
    "        'Precision': [test_precision],\n",
    "        'Recall': [test_recall],\n",
    "        'F1': [test_f1],\n",
    "    })\n",
    "    results = pd.concat([results, test_row], ignore_index=True)\n",
    "    \n",
    "    return results"
   ]
  },
  {
   "cell_type": "code",
   "execution_count": 10,
   "id": "feef8151-2a6d-42f5-934f-bcc18b20ee8b",
   "metadata": {
    "tags": []
   },
   "outputs": [
    {
     "name": "stdout",
     "output_type": "stream",
     "text": [
      "Evaluating correlation_features (X1)...\n",
      "                Model Dataset  Accuracy  Precision    Recall        F1\n",
      "0  LogisticRegression   Train  0.971297   0.631579  0.084507  0.149068\n",
      "1  LogisticRegression    Test  0.963343   0.714286  0.064103  0.117647 \n",
      "\n",
      "Evaluating forward_features (X2)...\n",
      "                Model Dataset  Accuracy  Precision    Recall        F1\n",
      "0  LogisticRegression   Train  0.971506   0.666667  0.084507  0.150000\n",
      "1  LogisticRegression    Test  0.962854   0.666667  0.051282  0.095238 \n",
      "\n",
      "Evaluating backward_features (X3)...\n",
      "                Model Dataset  Accuracy  Precision    Recall        F1\n",
      "0  LogisticRegression   Train  0.971297   0.631579  0.084507  0.149068\n",
      "1  LogisticRegression    Test  0.963343   0.714286  0.064103  0.117647 \n",
      "\n",
      "Evaluating stepwise_features (X4)...\n",
      "                Model Dataset  Accuracy  Precision    Recall        F1\n",
      "0  LogisticRegression   Train  0.971297   0.666667  0.070423  0.127389\n",
      "1  LogisticRegression    Test  0.963343   0.714286  0.064103  0.117647 \n",
      "\n",
      "Evaluating rfe_features (X5)...\n",
      "                Model Dataset  Accuracy  Precision  Recall   F1\n",
      "0  LogisticRegression   Train  0.970249        1.0     0.0  0.0\n",
      "1  LogisticRegression    Test  0.961877        1.0     0.0  0.0 \n",
      "\n",
      "Evaluating rfecv_features (X6)...\n",
      "                Model Dataset  Accuracy  Precision    Recall        F1\n",
      "0  LogisticRegression   Train  0.970040   0.333333  0.007042  0.013793\n",
      "1  LogisticRegression    Test  0.960899   0.250000  0.012821  0.024390 \n",
      "\n",
      "Evaluating variance_feature (X7)...\n",
      "                Model Dataset  Accuracy  Precision    Recall        F1\n",
      "0  LogisticRegression   Train  0.967945   0.176471  0.021127  0.037736\n",
      "1  LogisticRegression    Test  0.957478   0.090909  0.012821  0.022472 \n",
      "\n"
     ]
    },
    {
     "name": "stderr",
     "output_type": "stream",
     "text": [
      "C:\\Users\\haeun\\AppData\\Local\\Programs\\Python\\Python37\\lib\\site-packages\\sklearn\\linear_model\\_logistic.py:818: ConvergenceWarning: lbfgs failed to converge (status=1):\n",
      "STOP: TOTAL NO. of ITERATIONS REACHED LIMIT.\n",
      "\n",
      "Increase the number of iterations (max_iter) or scale the data as shown in:\n",
      "    https://scikit-learn.org/stable/modules/preprocessing.html\n",
      "Please also refer to the documentation for alternative solver options:\n",
      "    https://scikit-learn.org/stable/modules/linear_model.html#logistic-regression\n",
      "  extra_warning_msg=_LOGISTIC_SOLVER_CONVERGENCE_MSG,\n"
     ]
    }
   ],
   "source": [
    "# Logistic Regression\n",
    "\n",
    "log_reg_model = LogisticRegression(max_iter=300)\n",
    "    \n",
    "# 각 데이터셋 이름과 feature 출력 및 모델 평가\n",
    "for i, (X_data, feature_set) in enumerate(zip([X1, X2, X3, X4, X5, X6, X7],\n",
    "                                               ['correlation_features', 'forward_features', 'backward_features',\n",
    "                                                'stepwise_features', 'rfe_features', 'rfecv_features', 'variance_feature']), 1):\n",
    "    print(f\"Evaluating {feature_set} (X{i})...\")\n",
    "    \n",
    "    # 모델 평가\n",
    "    log_reg_results = evaluate_model(log_reg_model, 'LogisticRegression', X_data, y)\n",
    "    print(log_reg_results, '\\n')\n"
   ]
  },
  {
   "cell_type": "code",
   "execution_count": 11,
   "id": "e40eebae-205d-4a0a-8710-42c33b082810",
   "metadata": {
    "tags": []
   },
   "outputs": [
    {
     "name": "stdout",
     "output_type": "stream",
     "text": [
      "Evaluating correlation_features (X1)...\n",
      "                    Model Dataset  Accuracy  Precision    Recall        F1\n",
      "0  RandomForestClassifier   Train  0.976116   1.000000  0.197183  0.329412\n",
      "1  RandomForestClassifier    Test  0.963832   0.666667  0.102564  0.177778 \n",
      "\n",
      "Evaluating forward_features (X2)...\n",
      "                    Model Dataset  Accuracy  Precision    Recall        F1\n",
      "0  RandomForestClassifier   Train  0.974859   1.000000  0.154930  0.268293\n",
      "1  RandomForestClassifier    Test  0.963343   0.666667  0.076923  0.137931 \n",
      "\n",
      "Evaluating backward_features (X3)...\n",
      "                    Model Dataset  Accuracy  Precision    Recall        F1\n",
      "0  RandomForestClassifier   Train  0.976116   1.000000  0.197183  0.329412\n",
      "1  RandomForestClassifier    Test  0.963832   0.666667  0.102564  0.177778 \n",
      "\n",
      "Evaluating stepwise_features (X4)...\n",
      "                    Model Dataset  Accuracy  Precision    Recall        F1\n",
      "0  RandomForestClassifier   Train  0.975487   1.000000  0.176056  0.299401\n",
      "1  RandomForestClassifier    Test  0.963343   0.714286  0.064103  0.117647 \n",
      "\n",
      "Evaluating rfe_features (X5)...\n",
      "                    Model Dataset  Accuracy  Precision    Recall        F1\n",
      "0  RandomForestClassifier   Train  0.980515   1.000000  0.345070  0.513089\n",
      "1  RandomForestClassifier    Test  0.965787   0.785714  0.141026  0.239130 \n",
      "\n",
      "Evaluating rfecv_features (X6)...\n",
      "                    Model Dataset  Accuracy  Precision    Recall        F1\n",
      "0  RandomForestClassifier   Train  0.979468   1.000000  0.309859  0.473118\n",
      "1  RandomForestClassifier    Test  0.964321   0.777778  0.089744  0.160920 \n",
      "\n",
      "Evaluating variance_feature (X7)...\n",
      "                    Model Dataset  Accuracy  Precision    Recall        F1\n",
      "0  RandomForestClassifier   Train  0.974649        1.0  0.147887  0.257669\n",
      "1  RandomForestClassifier    Test  0.963832        1.0  0.051282  0.097561 \n",
      "\n"
     ]
    }
   ],
   "source": [
    "# Random Forest Classifier\n",
    "rf_model = RandomForestClassifier(n_estimators=200,  # 기본 트리의 수\n",
    "        max_depth=5,  # 트리의 최대 깊이 제한\n",
    "        min_samples_split=2,  # 노드를 분할하는 데 필요한 최소 샘플 수\n",
    "        min_samples_leaf=1,  # 리프 노드에 있어야 하는 최소 샘플 수\n",
    "        max_features='sqrt',  # 각 분할에 사용할 피처의 최대 수\n",
    "        random_state=111  # 결과 재현성을 위한 랜덤 시드\n",
    "    )\n",
    "    \n",
    "# 각 데이터셋 이름과 feature 출력 및 모델 평가\n",
    "for i, (X_data, feature_set) in enumerate(zip([X1, X2, X3, X4, X5, X6, X7],\n",
    "                                               ['correlation_features', 'forward_features', 'backward_features',\n",
    "                                                'stepwise_features', 'rfe_features', 'rfecv_features', 'variance_feature']), 1):\n",
    "    print(f\"Evaluating {feature_set} (X{i})...\")\n",
    "    \n",
    "    # 모델 평가\n",
    "    log_reg_results = evaluate_model(rf_model, 'RandomForestClassifier', X_data, y)\n",
    "    print(log_reg_results, '\\n')\n"
   ]
  },
  {
   "cell_type": "code",
   "execution_count": 12,
   "id": "454631f7-771e-45e9-b4f5-70911e196114",
   "metadata": {
    "tags": []
   },
   "outputs": [
    {
     "name": "stdout",
     "output_type": "stream",
     "text": [
      "Evaluating correlation_features (X1)...\n",
      "  Model Dataset  Accuracy  Precision    Recall        F1\n",
      "0   SVC   Train  0.976116   1.000000  0.197183  0.329412\n",
      "1   SVC    Test  0.963832   0.666667  0.102564  0.177778 \n",
      "\n",
      "Evaluating forward_features (X2)...\n",
      "  Model Dataset  Accuracy  Precision    Recall        F1\n",
      "0   SVC   Train  0.974859   1.000000  0.154930  0.268293\n",
      "1   SVC    Test  0.963343   0.666667  0.076923  0.137931 \n",
      "\n",
      "Evaluating backward_features (X3)...\n",
      "  Model Dataset  Accuracy  Precision    Recall        F1\n",
      "0   SVC   Train  0.976116   1.000000  0.197183  0.329412\n",
      "1   SVC    Test  0.963832   0.666667  0.102564  0.177778 \n",
      "\n",
      "Evaluating stepwise_features (X4)...\n",
      "  Model Dataset  Accuracy  Precision    Recall        F1\n",
      "0   SVC   Train  0.975487   1.000000  0.176056  0.299401\n",
      "1   SVC    Test  0.963343   0.714286  0.064103  0.117647 \n",
      "\n",
      "Evaluating rfe_features (X5)...\n",
      "  Model Dataset  Accuracy  Precision    Recall        F1\n",
      "0   SVC   Train  0.980515   1.000000  0.345070  0.513089\n",
      "1   SVC    Test  0.965787   0.785714  0.141026  0.239130 \n",
      "\n",
      "Evaluating rfecv_features (X6)...\n",
      "  Model Dataset  Accuracy  Precision    Recall        F1\n",
      "0   SVC   Train  0.979468   1.000000  0.309859  0.473118\n",
      "1   SVC    Test  0.964321   0.777778  0.089744  0.160920 \n",
      "\n",
      "Evaluating variance_feature (X7)...\n",
      "  Model Dataset  Accuracy  Precision    Recall        F1\n",
      "0   SVC   Train  0.974649        1.0  0.147887  0.257669\n",
      "1   SVC    Test  0.963832        1.0  0.051282  0.097561 \n",
      "\n"
     ]
    }
   ],
   "source": [
    "# SVC\n",
    "svc_model = SVC(kernel='linear')\n",
    "\n",
    "# 각 데이터셋 이름과 feature 출력 및 모델 평가\n",
    "for i, (X_data, feature_set) in enumerate(zip([X1, X2, X3, X4, X5, X6, X7],\n",
    "                                               ['correlation_features', 'forward_features', 'backward_features',\n",
    "                                                'stepwise_features', 'rfe_features', 'rfecv_features', 'variance_feature']), 1):\n",
    "    print(f\"Evaluating {feature_set} (X{i})...\")\n",
    "    \n",
    "    # 모델 평가\n",
    "    log_reg_results = evaluate_model(rf_model, 'SVC', X_data, y)\n",
    "    print(log_reg_results, '\\n')\n"
   ]
  },
  {
   "cell_type": "markdown",
   "id": "dfbaf602-89e2-4cec-8154-e6ea725657b4",
   "metadata": {
    "tags": []
   },
   "source": [
    "## Oversampling된 데이터에서 모델 학습 및 평가"
   ]
  },
  {
   "cell_type": "code",
   "execution_count": 13,
   "id": "34602201-3e53-4e4d-97d9-ac45ad75427f",
   "metadata": {
    "tags": []
   },
   "outputs": [],
   "source": [
    "# 독립변수와 종속변수 설정\n",
    "x1 = data2[correlation_features]\n",
    "x2 = data2[forward_features]\n",
    "x3 = data2[backward_features]\n",
    "x4 = data2[stepwise_features]\n",
    "x5 = data2[rfe_features]\n",
    "x6 = data2[rfecv_features]\n",
    "x7 = data2[variance_feature]"
   ]
  },
  {
   "cell_type": "code",
   "execution_count": 14,
   "id": "404195b4-5c55-4f40-92b7-e59e16e7dfb3",
   "metadata": {
    "tags": []
   },
   "outputs": [
    {
     "name": "stdout",
     "output_type": "stream",
     "text": [
      "Evaluating correlation_features (X1)...\n",
      "                Model Dataset  Accuracy  Precision  Recall   F1\n",
      "0  LogisticRegression   Train  0.970249        1.0     0.0  0.0\n",
      "1  LogisticRegression    Test  0.961877        1.0     0.0  0.0 \n",
      "\n",
      "Evaluating forward_features (X2)...\n",
      "                Model Dataset  Accuracy  Precision  Recall   F1\n",
      "0  LogisticRegression   Train  0.970249        1.0     0.0  0.0\n",
      "1  LogisticRegression    Test  0.961877        1.0     0.0  0.0 \n",
      "\n",
      "Evaluating backward_features (X3)...\n",
      "                Model Dataset  Accuracy  Precision  Recall   F1\n",
      "0  LogisticRegression   Train  0.970249        1.0     0.0  0.0\n",
      "1  LogisticRegression    Test  0.961877        1.0     0.0  0.0 \n",
      "\n",
      "Evaluating stepwise_features (X4)...\n",
      "                Model Dataset  Accuracy  Precision  Recall   F1\n",
      "0  LogisticRegression   Train  0.970249        1.0     0.0  0.0\n",
      "1  LogisticRegression    Test  0.961877        1.0     0.0  0.0 \n",
      "\n",
      "Evaluating rfe_features (X5)...\n",
      "                Model Dataset  Accuracy  Precision  Recall   F1\n",
      "0  LogisticRegression   Train  0.970249        1.0     0.0  0.0\n",
      "1  LogisticRegression    Test  0.961877        1.0     0.0  0.0 \n",
      "\n",
      "Evaluating rfecv_features (X6)...\n",
      "                Model Dataset  Accuracy  Precision  Recall   F1\n",
      "0  LogisticRegression   Train  0.970249        1.0     0.0  0.0\n",
      "1  LogisticRegression    Test  0.961877        1.0     0.0  0.0 \n",
      "\n",
      "Evaluating variance_feature (X7)...\n",
      "                Model Dataset  Accuracy  Precision  Recall   F1\n",
      "0  LogisticRegression   Train  0.970249        1.0     0.0  0.0\n",
      "1  LogisticRegression    Test  0.961877        1.0     0.0  0.0 \n",
      "\n"
     ]
    }
   ],
   "source": [
    "# Logistic Regression\n",
    "\n",
    "log_reg_model = LogisticRegression(max_iter=300)\n",
    "    \n",
    "# 각 데이터셋 이름과 feature 출력 및 모델 평가\n",
    "for i, (X_data, feature_set) in enumerate(zip([x1, x2, x3, x4, x5, x6, x7],\n",
    "                                               ['correlation_features', 'forward_features', 'backward_features',\n",
    "                                                'stepwise_features', 'rfe_features', 'rfecv_features', 'variance_feature']), 1):\n",
    "    print(f\"Evaluating {feature_set} (X{i})...\")\n",
    "    \n",
    "    # 모델 평가\n",
    "    log_reg_results = evaluate_model(log_reg_model, 'LogisticRegression', X_data, y)\n",
    "    print(log_reg_results, '\\n')\n",
    "\n"
   ]
  },
  {
   "cell_type": "code",
   "execution_count": 15,
   "id": "5f289044-3df1-4927-9e23-dea21ebcd269",
   "metadata": {
    "tags": []
   },
   "outputs": [
    {
     "name": "stdout",
     "output_type": "stream",
     "text": [
      "Evaluating correlation_features (X1)...\n",
      "                    Model Dataset  Accuracy  Precision    Recall        F1\n",
      "0  RandomForestClassifier   Train  0.970878        1.0  0.021127  0.041379\n",
      "1  RandomForestClassifier    Test  0.960411        0.0  0.000000  0.000000 \n",
      "\n",
      "Evaluating forward_features (X2)...\n",
      "                    Model Dataset  Accuracy  Precision    Recall        F1\n",
      "0  RandomForestClassifier   Train  0.970668        1.0  0.014085  0.027778\n",
      "1  RandomForestClassifier    Test  0.961877        1.0  0.000000  0.000000 \n",
      "\n",
      "Evaluating backward_features (X3)...\n",
      "                    Model Dataset  Accuracy  Precision    Recall        F1\n",
      "0  RandomForestClassifier   Train  0.970878        1.0  0.021127  0.041379\n",
      "1  RandomForestClassifier    Test  0.960411        0.0  0.000000  0.000000 \n",
      "\n",
      "Evaluating stepwise_features (X4)...\n",
      "                    Model Dataset  Accuracy  Precision    Recall        F1\n",
      "0  RandomForestClassifier   Train  0.970668        1.0  0.014085  0.027778\n",
      "1  RandomForestClassifier    Test  0.960899        0.0  0.000000  0.000000 \n",
      "\n",
      "Evaluating rfe_features (X5)...\n",
      "                    Model Dataset  Accuracy  Precision    Recall        F1\n",
      "0  RandomForestClassifier   Train  0.970668        1.0  0.014085  0.027778\n",
      "1  RandomForestClassifier    Test  0.961877        1.0  0.000000  0.000000 \n",
      "\n",
      "Evaluating rfecv_features (X6)...\n",
      "                    Model Dataset  Accuracy  Precision    Recall        F1\n",
      "0  RandomForestClassifier   Train  0.970459        1.0  0.007042  0.013986\n",
      "1  RandomForestClassifier    Test  0.961877        1.0  0.000000  0.000000 \n",
      "\n",
      "Evaluating variance_feature (X7)...\n",
      "                    Model Dataset  Accuracy  Precision  Recall   F1\n",
      "0  RandomForestClassifier   Train  0.970249        1.0     0.0  0.0\n",
      "1  RandomForestClassifier    Test  0.961877        1.0     0.0  0.0 \n",
      "\n"
     ]
    }
   ],
   "source": [
    "# Random Forest Classifier\n",
    "rf_model = RandomForestClassifier(n_estimators=200,  # 기본 트리의 수\n",
    "        max_depth=5,  # 트리의 최대 깊이 제한\n",
    "        min_samples_split=2,  # 노드를 분할하는 데 필요한 최소 샘플 수\n",
    "        min_samples_leaf=1,  # 리프 노드에 있어야 하는 최소 샘플 수\n",
    "        max_features='sqrt',  # 각 분할에 사용할 피처의 최대 수\n",
    "        random_state=111  # 결과 재현성을 위한 랜덤 시드\n",
    "    )\n",
    "    \n",
    "# 각 데이터셋 이름과 feature 출력 및 모델 평가\n",
    "for i, (X_data, feature_set) in enumerate(zip([x1, x2, x3, x4, x5, x6, x7],\n",
    "                                               ['correlation_features', 'forward_features', 'backward_features',\n",
    "                                                'stepwise_features', 'rfe_features', 'rfecv_features', 'variance_feature']), 1):\n",
    "    print(f\"Evaluating {feature_set} (X{i})...\")\n",
    "    \n",
    "    # 모델 평가\n",
    "    log_reg_results = evaluate_model(rf_model, 'RandomForestClassifier', X_data, y)\n",
    "    print(log_reg_results, '\\n')\n"
   ]
  },
  {
   "cell_type": "code",
   "execution_count": 16,
   "id": "6be426cc-373f-404b-b044-ec7d68a93d8f",
   "metadata": {
    "tags": []
   },
   "outputs": [
    {
     "name": "stdout",
     "output_type": "stream",
     "text": [
      "Evaluating correlation_features (X1)...\n",
      "  Model Dataset  Accuracy  Precision    Recall        F1\n",
      "0   SVC   Train  0.970878        1.0  0.021127  0.041379\n",
      "1   SVC    Test  0.960411        0.0  0.000000  0.000000 \n",
      "\n",
      "Evaluating forward_features (X2)...\n",
      "  Model Dataset  Accuracy  Precision    Recall        F1\n",
      "0   SVC   Train  0.970668        1.0  0.014085  0.027778\n",
      "1   SVC    Test  0.961877        1.0  0.000000  0.000000 \n",
      "\n",
      "Evaluating backward_features (X3)...\n",
      "  Model Dataset  Accuracy  Precision    Recall        F1\n",
      "0   SVC   Train  0.970878        1.0  0.021127  0.041379\n",
      "1   SVC    Test  0.960411        0.0  0.000000  0.000000 \n",
      "\n",
      "Evaluating stepwise_features (X4)...\n",
      "  Model Dataset  Accuracy  Precision    Recall        F1\n",
      "0   SVC   Train  0.970668        1.0  0.014085  0.027778\n",
      "1   SVC    Test  0.960899        0.0  0.000000  0.000000 \n",
      "\n",
      "Evaluating rfe_features (X5)...\n",
      "  Model Dataset  Accuracy  Precision    Recall        F1\n",
      "0   SVC   Train  0.970668        1.0  0.014085  0.027778\n",
      "1   SVC    Test  0.961877        1.0  0.000000  0.000000 \n",
      "\n",
      "Evaluating rfecv_features (X6)...\n",
      "  Model Dataset  Accuracy  Precision    Recall        F1\n",
      "0   SVC   Train  0.970459        1.0  0.007042  0.013986\n",
      "1   SVC    Test  0.961877        1.0  0.000000  0.000000 \n",
      "\n",
      "Evaluating variance_feature (X7)...\n",
      "  Model Dataset  Accuracy  Precision  Recall   F1\n",
      "0   SVC   Train  0.970249        1.0     0.0  0.0\n",
      "1   SVC    Test  0.961877        1.0     0.0  0.0 \n",
      "\n"
     ]
    }
   ],
   "source": [
    "# SVC\n",
    "svc_model = SVC(kernel='linear')\n",
    "\n",
    "# 각 데이터셋 이름과 feature 출력 및 모델 평가\n",
    "for i, (X_data, feature_set) in enumerate(zip([x1, x2, x3, x4, x5, x6, x7],\n",
    "                                               ['correlation_features', 'forward_features', 'backward_features',\n",
    "                                                'stepwise_features', 'rfe_features', 'rfecv_features', 'variance_feature']), 1):\n",
    "    print(f\"Evaluating {feature_set} (X{i})...\")\n",
    "    \n",
    "    # 모델 평가\n",
    "    log_reg_results = evaluate_model(rf_model, 'SVC', X_data, y)\n",
    "    print(log_reg_results, '\\n')\n"
   ]
  },
  {
   "cell_type": "code",
   "execution_count": null,
   "id": "72a0e8cc-3c5a-46b0-9dad-16be28290775",
   "metadata": {},
   "outputs": [],
   "source": []
  }
 ],
 "metadata": {
  "kernelspec": {
   "display_name": "Python 3 (ipykernel)",
   "language": "python",
   "name": "python3"
  },
  "language_info": {
   "codemirror_mode": {
    "name": "ipython",
    "version": 3
   },
   "file_extension": ".py",
   "mimetype": "text/x-python",
   "name": "python",
   "nbconvert_exporter": "python",
   "pygments_lexer": "ipython3",
   "version": "3.7.9"
  }
 },
 "nbformat": 4,
 "nbformat_minor": 5
}
