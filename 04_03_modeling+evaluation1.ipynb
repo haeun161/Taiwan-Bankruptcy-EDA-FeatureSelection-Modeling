{
 "cells": [
  {
   "cell_type": "markdown",
   "id": "9cf8d688-bb2f-4fc3-ab3e-33562b22f9d3",
   "metadata": {},
   "source": [
    "##  선정된 피처로 모델 학습 및 평가\n",
    "- Original과 SMOTE로 증간된 데이터에서 평가\n",
    "- Feature Selection에서 RFE,RFECV,상관 계수 고려한 경우\n",
    "- 평가지표 정확도, 정밀도, f1, 재현율으로 평가해서 어떤 모델과 어떤 피처가 최적인지 테스트"
   ]
  },
  {
   "cell_type": "code",
   "execution_count": 5,
   "id": "d9a8d8f9-bf79-4be8-8dce-99a6bda623dc",
   "metadata": {},
   "outputs": [],
   "source": [
    "import pandas as pd\n",
    "from sklearn.linear_model import LogisticRegression\n",
    "from sklearn.ensemble import RandomForestClassifier\n",
    "from sklearn.svm import SVC\n",
    "from sklearn.feature_selection import RFECV\n",
    "from sklearn.model_selection import train_test_split, StratifiedKFold\n",
    "from sklearn.metrics import accuracy_score, precision_score, recall_score, f1_score"
   ]
  },
  {
   "cell_type": "code",
   "execution_count": 6,
   "id": "c56f81d8-5eb0-4ddb-a9c6-35de8f44de2b",
   "metadata": {
    "tags": []
   },
   "outputs": [],
   "source": [
    "# 파일 경로 설정\n",
    "file_path1 = \"data.csv\"\n",
    "file_path2 = \"oversampled_data.csv\"\n",
    "\n",
    "# CSV 파일을 DataFrame으로 불러오기\n",
    "data1 = pd.read_csv(file_path1)\n",
    "data2 = pd.read_csv(file_path2)"
   ]
  },
  {
   "cell_type": "code",
   "execution_count": 7,
   "id": "3a49d416-9f79-46d8-83ea-53c44ae13a75",
   "metadata": {},
   "outputs": [],
   "source": [
    "X1 = data1[[' ROA(A) before interest and % after tax', ' Interest Expense Ratio', ' Net profit before tax/Paid-in capital', \n",
    "           \" Net Income to Stockholder's Equity\", ' Persistent EPS in the Last Four Seasons', ' Total debt/Total net worth', \n",
    "           ' Debt ratio %', ' Net Income to Total Assets', ' Degree of Financial Leverage (DFL)', ' Cash/Total Assets', ' Retained Earnings to Total Assets']]"
   ]
  },
  {
   "cell_type": "code",
   "execution_count": 8,
   "id": "96f4155f-f8c5-45e9-904d-cba4beea72ed",
   "metadata": {
    "tags": []
   },
   "outputs": [],
   "source": [
    "X2 = data2[[' ROA(A) before interest and % after tax', ' Interest Expense Ratio', ' Net profit before tax/Paid-in capital', \n",
    "           \" Net Income to Stockholder's Equity\", ' Persistent EPS in the Last Four Seasons', ' Total debt/Total net worth', \n",
    "           ' Debt ratio %', ' Net Income to Total Assets', ' Degree of Financial Leverage (DFL)', ' Cash/Total Assets', ' Retained Earnings to Total Assets']]"
   ]
  },
  {
   "cell_type": "code",
   "execution_count": 9,
   "id": "503ff54e-12c7-46a4-aa24-9f0379e0b9f3",
   "metadata": {
    "tags": []
   },
   "outputs": [],
   "source": [
    "# 독립변수와 종속변수 설정\n",
    "y1 = data1['Bankrupt?']\n",
    "y2 = data2['Bankrupt?']"
   ]
  },
  {
   "cell_type": "code",
   "execution_count": 10,
   "id": "612c4b15-2d34-4743-ab7d-2b0aa60a3124",
   "metadata": {
    "tags": []
   },
   "outputs": [],
   "source": [
    "# 훈련 데이터셋으로 분할\n",
    "X_train1, X_test1, y_train1, y_test1 = train_test_split(X1, y1, test_size=0.2, random_state=111)\n",
    "X_train2, X_test2, y_train2, y_test2 = train_test_split(X1, y1, test_size=0.2, random_state=111)"
   ]
  },
  {
   "cell_type": "code",
   "execution_count": 11,
   "id": "7cd25947-5f38-4f40-bd9b-b871799e18b1",
   "metadata": {
    "tags": []
   },
   "outputs": [],
   "source": [
    "# 결과를 정리할 DataFrame 생성 함수\n",
    "def create_results_df():\n",
    "    return pd.DataFrame(columns=['Model', 'Dataset', 'Accuracy', 'Precision', 'Recall', 'F1'])"
   ]
  },
  {
   "cell_type": "code",
   "execution_count": 12,
   "id": "c720cbaa-3437-46e1-ba82-ec1a7791c403",
   "metadata": {
    "tags": []
   },
   "outputs": [],
   "source": [
    "# 모델 평가 함수\n",
    "def evaluate_model(model, model_name, X_train, y_train, X_test, y_test):\n",
    "    results = create_results_df()\n",
    "    \n",
    "    # 모델 학습\n",
    "    model.fit(X_train, y_train)\n",
    "    \n",
    "    # 훈련 데이터 성능 평가\n",
    "    y_train_pred = model.predict(X_train)\n",
    "    train_accuracy = accuracy_score(y_train, y_train_pred)\n",
    "    train_precision = precision_score(y_train, y_train_pred)\n",
    "    train_recall = recall_score(y_train, y_train_pred)\n",
    "    train_f1 = f1_score(y_train, y_train_pred)\n",
    "\n",
    "    # 결과 저장 (훈련 데이터)\n",
    "    train_row = pd.DataFrame({\n",
    "        'Model': [model_name],\n",
    "        'Dataset': ['Train'],\n",
    "        'Accuracy': [train_accuracy],\n",
    "        'Precision': [train_precision],\n",
    "        'Recall': [train_recall],\n",
    "        'F1': [train_f1],\n",
    "    })\n",
    "    results = pd.concat([results, train_row], ignore_index=True)\n",
    "    \n",
    "    # 테스트 데이터 성능 평가\n",
    "    y_test_pred = model.predict(X_test)\n",
    "    test_accuracy = accuracy_score(y_test, y_test_pred)\n",
    "    test_precision = precision_score(y_test, y_test_pred)\n",
    "    test_recall = recall_score(y_test, y_test_pred)\n",
    "    test_f1 = f1_score(y_test, y_test_pred)\n",
    "\n",
    "    # 결과 저장 (테스트 데이터)\n",
    "    test_row = pd.DataFrame({\n",
    "        'Model': [model_name],\n",
    "        'Dataset': ['Test'],\n",
    "        'Accuracy': [test_accuracy],\n",
    "        'Precision': [test_precision],\n",
    "        'Recall': [test_recall],\n",
    "        'F1': [test_f1],\n",
    "    })\n",
    "    results = pd.concat([results, test_row], ignore_index=True)\n",
    "    \n",
    "    return results"
   ]
  },
  {
   "cell_type": "code",
   "execution_count": 13,
   "id": "feef8151-2a6d-42f5-934f-bcc18b20ee8b",
   "metadata": {
    "tags": []
   },
   "outputs": [
    {
     "name": "stdout",
     "output_type": "stream",
     "text": [
      "                Model Dataset  Accuracy  Precision  Recall   F1\n",
      "0  LogisticRegression   Train  0.967919        0.0     0.0  0.0\n",
      "1  LogisticRegression    Test  0.967009        0.0     0.0  0.0\n"
     ]
    },
    {
     "name": "stderr",
     "output_type": "stream",
     "text": [
      "C:\\Users\\haeun\\AppData\\Local\\Programs\\Python\\Python37\\lib\\site-packages\\sklearn\\metrics\\_classification.py:1318: UndefinedMetricWarning: Precision is ill-defined and being set to 0.0 due to no predicted samples. Use `zero_division` parameter to control this behavior.\n",
      "  _warn_prf(average, modifier, msg_start, len(result))\n",
      "C:\\Users\\haeun\\AppData\\Local\\Programs\\Python\\Python37\\lib\\site-packages\\sklearn\\metrics\\_classification.py:1318: UndefinedMetricWarning: Precision is ill-defined and being set to 0.0 due to no predicted samples. Use `zero_division` parameter to control this behavior.\n",
      "  _warn_prf(average, modifier, msg_start, len(result))\n"
     ]
    }
   ],
   "source": [
    "# Logistic Regression\n",
    "log_reg_model = LogisticRegression(max_iter=3000)\n",
    "log_reg_results = evaluate_model(log_reg_model, 'LogisticRegression', X_train1, y_train1, X_test1, y_test1)\n",
    "print(log_reg_results)"
   ]
  },
  {
   "cell_type": "code",
   "execution_count": 16,
   "id": "e40eebae-205d-4a0a-8710-42c33b082810",
   "metadata": {
    "tags": []
   },
   "outputs": [
    {
     "name": "stdout",
     "output_type": "stream",
     "text": [
      "                    Model Dataset  Accuracy  Precision    Recall        F1\n",
      "0  RandomForestClassifier   Train  0.976535   0.979592  0.274286  0.428571\n",
      "1  RandomForestClassifier    Test  0.967742   0.555556  0.111111  0.185185\n"
     ]
    }
   ],
   "source": [
    "# Random Forest Classifier\n",
    "rf_model = RandomForestClassifier(n_estimators=1000,  # 기본 트리의 수\n",
    "        max_depth=5,  # 트리의 최대 깊이 제한\n",
    "        min_samples_split=2,  # 노드를 분할하는 데 필요한 최소 샘플 수\n",
    "        min_samples_leaf=1,  # 리프 노드에 있어야 하는 최소 샘플 수\n",
    "        max_features='sqrt',  # 각 분할에 사용할 피처의 최대 수\n",
    "        random_state=111  # 결과 재현성을 위한 랜덤 시드\n",
    "    )\n",
    "rf_results = evaluate_model(rf_model, 'RandomForestClassifier', X_train1, y_train1, X_test1, y_test1)\n",
    "print(rf_results)"
   ]
  },
  {
   "cell_type": "code",
   "execution_count": null,
   "id": "454631f7-771e-45e9-b4f5-70911e196114",
   "metadata": {
    "tags": []
   },
   "outputs": [],
   "source": [
    "# SVC\n",
    "svc_model = SVC(kernel='linear')\n",
    "svc_results = evaluate_model(svc_model, 'SVC', X_train1, y_train1, X_test1, y_test1)\n",
    "print(svc_results)"
   ]
  },
  {
   "cell_type": "code",
   "execution_count": 17,
   "id": "404195b4-5c55-4f40-92b7-e59e16e7dfb3",
   "metadata": {
    "tags": []
   },
   "outputs": [
    {
     "name": "stdout",
     "output_type": "stream",
     "text": [
      "                Model Dataset  Accuracy  Precision  Recall   F1\n",
      "0  LogisticRegression   Train  0.967919        0.0     0.0  0.0\n",
      "1  LogisticRegression    Test  0.967009        0.0     0.0  0.0\n"
     ]
    },
    {
     "name": "stderr",
     "output_type": "stream",
     "text": [
      "C:\\Users\\haeun\\AppData\\Local\\Programs\\Python\\Python37\\lib\\site-packages\\sklearn\\metrics\\_classification.py:1318: UndefinedMetricWarning: Precision is ill-defined and being set to 0.0 due to no predicted samples. Use `zero_division` parameter to control this behavior.\n",
      "  _warn_prf(average, modifier, msg_start, len(result))\n",
      "C:\\Users\\haeun\\AppData\\Local\\Programs\\Python\\Python37\\lib\\site-packages\\sklearn\\metrics\\_classification.py:1318: UndefinedMetricWarning: Precision is ill-defined and being set to 0.0 due to no predicted samples. Use `zero_division` parameter to control this behavior.\n",
      "  _warn_prf(average, modifier, msg_start, len(result))\n"
     ]
    }
   ],
   "source": [
    "# Logistic Regression\n",
    "log_reg_model = LogisticRegression(max_iter=3000)\n",
    "log_reg_results = evaluate_model(log_reg_model, 'LogisticRegression', X_train2, y_train2, X_test2, y_test2)\n",
    "print(log_reg_results)"
   ]
  },
  {
   "cell_type": "code",
   "execution_count": 18,
   "id": "5f289044-3df1-4927-9e23-dea21ebcd269",
   "metadata": {
    "tags": []
   },
   "outputs": [
    {
     "name": "stdout",
     "output_type": "stream",
     "text": [
      "                    Model Dataset  Accuracy  Precision    Recall        F1\n",
      "0  RandomForestClassifier   Train  0.976535   0.979592  0.274286  0.428571\n",
      "1  RandomForestClassifier    Test  0.967742   0.555556  0.111111  0.185185\n"
     ]
    }
   ],
   "source": [
    "# Random Forest Classifier\n",
    "rf_model =  RandomForestClassifier(n_estimators=1000,  # 기본 트리의 수\n",
    "        max_depth=5,  # 트리의 최대 깊이 제한\n",
    "        min_samples_split=2,  # 노드를 분할하는 데 필요한 최소 샘플 수\n",
    "        min_samples_leaf=1,  # 리프 노드에 있어야 하는 최소 샘플 수\n",
    "        max_features='sqrt',  # 각 분할에 사용할 피처의 최대 수\n",
    "        random_state=111  # 결과 재현성을 위한 랜덤 시드\n",
    "    )\n",
    "rf_results = evaluate_model(rf_model, 'RandomForestClassifier', X_train2, y_train2, X_test2, y_test2)\n",
    "print(rf_results)"
   ]
  },
  {
   "cell_type": "code",
   "execution_count": null,
   "id": "6be426cc-373f-404b-b044-ec7d68a93d8f",
   "metadata": {
    "tags": []
   },
   "outputs": [],
   "source": [
    "# SVC\n",
    "svc_model = SVC(kernel='linear')\n",
    "svc_results = evaluate_model(svc_model, 'SVC', X_train2, y_train2, X_test2, y_test2)\n",
    "print(svc_results)"
   ]
  },
  {
   "cell_type": "code",
   "execution_count": null,
   "id": "72a0e8cc-3c5a-46b0-9dad-16be28290775",
   "metadata": {},
   "outputs": [],
   "source": []
  }
 ],
 "metadata": {
  "kernelspec": {
   "display_name": "Python 3 (ipykernel)",
   "language": "python",
   "name": "python3"
  },
  "language_info": {
   "codemirror_mode": {
    "name": "ipython",
    "version": 3
   },
   "file_extension": ".py",
   "mimetype": "text/x-python",
   "name": "python",
   "nbconvert_exporter": "python",
   "pygments_lexer": "ipython3",
   "version": "3.7.9"
  }
 },
 "nbformat": 4,
 "nbformat_minor": 5
}
