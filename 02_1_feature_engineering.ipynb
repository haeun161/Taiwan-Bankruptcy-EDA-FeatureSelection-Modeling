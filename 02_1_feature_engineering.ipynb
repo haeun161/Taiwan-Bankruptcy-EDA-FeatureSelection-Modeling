{
 "cells": [
  {
   "cell_type": "markdown",
   "id": "61ff9cac-e672-4f97-a1b4-a8feead85bea",
   "metadata": {},
   "source": [
    "## 다양한 피처선정 방법으로 피처 선택하기\n",
    "- 상관관계 높았던 Top 10개 기준으로 차원 축소(Wrapper 방식) 진행"
   ]
  },
  {
   "cell_type": "code",
   "execution_count": 1,
   "id": "44227ab3-e574-4ad2-a4b7-0eee1ef1cb76",
   "metadata": {
    "tags": []
   },
   "outputs": [],
   "source": [
    "import pandas as pd\n",
    "import numpy as np\n",
    "from sklearn.linear_model import LogisticRegression\n",
    "from sklearn.model_selection import train_test_split\n",
    "import seaborn as sns\n",
    "import matplotlib.pyplot as plt\n",
    "from mlxtend.feature_selection import SequentialFeatureSelector as SFS"
   ]
  },
  {
   "cell_type": "code",
   "execution_count": 2,
   "id": "e9dc2e72-c104-4c19-a695-f9524779e4f5",
   "metadata": {
    "tags": []
   },
   "outputs": [],
   "source": [
    "# 파일 경로 설정\n",
    "file_path = \"data.csv\"\n",
    "\n",
    "# CSV 파일을 DataFrame으로 불러오기\n",
    "data = pd.read_csv(file_path)"
   ]
  },
  {
   "cell_type": "markdown",
   "id": "d18d3259-ecb0-416e-ba4a-7d37f594ceac",
   "metadata": {},
   "source": [
    "- 상관관계 높았던 10개 사용"
   ]
  },
  {
   "cell_type": "code",
   "execution_count": 3,
   "id": "ba0df3d1-b86e-4494-8310-48740854783e",
   "metadata": {
    "tags": []
   },
   "outputs": [],
   "source": [
    "selected_features = [\n",
    "    'Bankrupt?',\n",
    "    ' Net Income to Total Assets',\n",
    "    ' ROA(A) before interest and % after tax',\n",
    "    ' ROA(B) before interest and depreciation after tax',\n",
    "    ' ROA(C) before interest and depreciation before interest',\n",
    "    ' Net worth/Assets',\n",
    "    ' Debt ratio %',\n",
    "    ' Persistent EPS in the Last Four Seasons',\n",
    "    ' Retained Earnings to Total Assets',\n",
    "    ' Net profit before tax/Paid-in capital'\n",
    "]"
   ]
  },
  {
   "cell_type": "code",
   "execution_count": 4,
   "id": "559b46c7-90cf-464d-a62f-b920c0b62c57",
   "metadata": {
    "tags": []
   },
   "outputs": [],
   "source": [
    "# 독립변수 종속변수 정리\n",
    "X = data[selected_features]\n",
    "y= data['Bankrupt?']"
   ]
  },
  {
   "cell_type": "code",
   "execution_count": 5,
   "id": "4dc520d5-f74c-4009-b6e5-58794d84f074",
   "metadata": {
    "tags": []
   },
   "outputs": [
    {
     "data": {
      "text/html": [
       "<div>\n",
       "<style scoped>\n",
       "    .dataframe tbody tr th:only-of-type {\n",
       "        vertical-align: middle;\n",
       "    }\n",
       "\n",
       "    .dataframe tbody tr th {\n",
       "        vertical-align: top;\n",
       "    }\n",
       "\n",
       "    .dataframe thead th {\n",
       "        text-align: right;\n",
       "    }\n",
       "</style>\n",
       "<table border=\"1\" class=\"dataframe\">\n",
       "  <thead>\n",
       "    <tr style=\"text-align: right;\">\n",
       "      <th></th>\n",
       "      <th>Bankrupt?</th>\n",
       "      <th>Net Income to Total Assets</th>\n",
       "      <th>ROA(A) before interest and % after tax</th>\n",
       "      <th>ROA(B) before interest and depreciation after tax</th>\n",
       "      <th>ROA(C) before interest and depreciation before interest</th>\n",
       "      <th>Net worth/Assets</th>\n",
       "      <th>Debt ratio %</th>\n",
       "      <th>Persistent EPS in the Last Four Seasons</th>\n",
       "      <th>Retained Earnings to Total Assets</th>\n",
       "      <th>Net profit before tax/Paid-in capital</th>\n",
       "    </tr>\n",
       "  </thead>\n",
       "  <tbody>\n",
       "    <tr>\n",
       "      <th>0</th>\n",
       "      <td>1</td>\n",
       "      <td>0.716845</td>\n",
       "      <td>0.424389</td>\n",
       "      <td>0.405750</td>\n",
       "      <td>0.370594</td>\n",
       "      <td>0.792424</td>\n",
       "      <td>0.207576</td>\n",
       "      <td>0.169141</td>\n",
       "      <td>0.903225</td>\n",
       "      <td>0.137757</td>\n",
       "    </tr>\n",
       "    <tr>\n",
       "      <th>1</th>\n",
       "      <td>1</td>\n",
       "      <td>0.795297</td>\n",
       "      <td>0.538214</td>\n",
       "      <td>0.516730</td>\n",
       "      <td>0.464291</td>\n",
       "      <td>0.828824</td>\n",
       "      <td>0.171176</td>\n",
       "      <td>0.208944</td>\n",
       "      <td>0.931065</td>\n",
       "      <td>0.168962</td>\n",
       "    </tr>\n",
       "    <tr>\n",
       "      <th>2</th>\n",
       "      <td>1</td>\n",
       "      <td>0.774670</td>\n",
       "      <td>0.499019</td>\n",
       "      <td>0.472295</td>\n",
       "      <td>0.426071</td>\n",
       "      <td>0.792484</td>\n",
       "      <td>0.207516</td>\n",
       "      <td>0.180581</td>\n",
       "      <td>0.909903</td>\n",
       "      <td>0.148036</td>\n",
       "    </tr>\n",
       "    <tr>\n",
       "      <th>3</th>\n",
       "      <td>1</td>\n",
       "      <td>0.739555</td>\n",
       "      <td>0.451265</td>\n",
       "      <td>0.457733</td>\n",
       "      <td>0.399844</td>\n",
       "      <td>0.848535</td>\n",
       "      <td>0.151465</td>\n",
       "      <td>0.193722</td>\n",
       "      <td>0.906902</td>\n",
       "      <td>0.147561</td>\n",
       "    </tr>\n",
       "    <tr>\n",
       "      <th>4</th>\n",
       "      <td>1</td>\n",
       "      <td>0.795016</td>\n",
       "      <td>0.538432</td>\n",
       "      <td>0.522298</td>\n",
       "      <td>0.465022</td>\n",
       "      <td>0.893491</td>\n",
       "      <td>0.106509</td>\n",
       "      <td>0.212537</td>\n",
       "      <td>0.913850</td>\n",
       "      <td>0.167461</td>\n",
       "    </tr>\n",
       "    <tr>\n",
       "      <th>...</th>\n",
       "      <td>...</td>\n",
       "      <td>...</td>\n",
       "      <td>...</td>\n",
       "      <td>...</td>\n",
       "      <td>...</td>\n",
       "      <td>...</td>\n",
       "      <td>...</td>\n",
       "      <td>...</td>\n",
       "      <td>...</td>\n",
       "      <td>...</td>\n",
       "    </tr>\n",
       "    <tr>\n",
       "      <th>6814</th>\n",
       "      <td>0</td>\n",
       "      <td>0.799927</td>\n",
       "      <td>0.539468</td>\n",
       "      <td>0.543230</td>\n",
       "      <td>0.493687</td>\n",
       "      <td>0.875382</td>\n",
       "      <td>0.124618</td>\n",
       "      <td>0.216602</td>\n",
       "      <td>0.925611</td>\n",
       "      <td>0.171111</td>\n",
       "    </tr>\n",
       "    <tr>\n",
       "      <th>6815</th>\n",
       "      <td>0</td>\n",
       "      <td>0.799748</td>\n",
       "      <td>0.538269</td>\n",
       "      <td>0.524172</td>\n",
       "      <td>0.475162</td>\n",
       "      <td>0.900747</td>\n",
       "      <td>0.099253</td>\n",
       "      <td>0.216697</td>\n",
       "      <td>0.932629</td>\n",
       "      <td>0.171805</td>\n",
       "    </tr>\n",
       "    <tr>\n",
       "      <th>6816</th>\n",
       "      <td>0</td>\n",
       "      <td>0.797778</td>\n",
       "      <td>0.533744</td>\n",
       "      <td>0.520638</td>\n",
       "      <td>0.472725</td>\n",
       "      <td>0.961061</td>\n",
       "      <td>0.038939</td>\n",
       "      <td>0.210929</td>\n",
       "      <td>0.932000</td>\n",
       "      <td>0.172287</td>\n",
       "    </tr>\n",
       "    <tr>\n",
       "      <th>6817</th>\n",
       "      <td>0</td>\n",
       "      <td>0.811808</td>\n",
       "      <td>0.559911</td>\n",
       "      <td>0.554045</td>\n",
       "      <td>0.506264</td>\n",
       "      <td>0.913021</td>\n",
       "      <td>0.086979</td>\n",
       "      <td>0.228326</td>\n",
       "      <td>0.939613</td>\n",
       "      <td>0.182498</td>\n",
       "    </tr>\n",
       "    <tr>\n",
       "      <th>6818</th>\n",
       "      <td>0</td>\n",
       "      <td>0.815956</td>\n",
       "      <td>0.570105</td>\n",
       "      <td>0.549548</td>\n",
       "      <td>0.493053</td>\n",
       "      <td>0.985851</td>\n",
       "      <td>0.014149</td>\n",
       "      <td>0.227758</td>\n",
       "      <td>0.938005</td>\n",
       "      <td>0.179911</td>\n",
       "    </tr>\n",
       "  </tbody>\n",
       "</table>\n",
       "<p>6819 rows × 10 columns</p>\n",
       "</div>"
      ],
      "text/plain": [
       "      Bankrupt?   Net Income to Total Assets  \\\n",
       "0             1                     0.716845   \n",
       "1             1                     0.795297   \n",
       "2             1                     0.774670   \n",
       "3             1                     0.739555   \n",
       "4             1                     0.795016   \n",
       "...         ...                          ...   \n",
       "6814          0                     0.799927   \n",
       "6815          0                     0.799748   \n",
       "6816          0                     0.797778   \n",
       "6817          0                     0.811808   \n",
       "6818          0                     0.815956   \n",
       "\n",
       "       ROA(A) before interest and % after tax  \\\n",
       "0                                    0.424389   \n",
       "1                                    0.538214   \n",
       "2                                    0.499019   \n",
       "3                                    0.451265   \n",
       "4                                    0.538432   \n",
       "...                                       ...   \n",
       "6814                                 0.539468   \n",
       "6815                                 0.538269   \n",
       "6816                                 0.533744   \n",
       "6817                                 0.559911   \n",
       "6818                                 0.570105   \n",
       "\n",
       "       ROA(B) before interest and depreciation after tax  \\\n",
       "0                                              0.405750    \n",
       "1                                              0.516730    \n",
       "2                                              0.472295    \n",
       "3                                              0.457733    \n",
       "4                                              0.522298    \n",
       "...                                                 ...    \n",
       "6814                                           0.543230    \n",
       "6815                                           0.524172    \n",
       "6816                                           0.520638    \n",
       "6817                                           0.554045    \n",
       "6818                                           0.549548    \n",
       "\n",
       "       ROA(C) before interest and depreciation before interest  \\\n",
       "0                                              0.370594          \n",
       "1                                              0.464291          \n",
       "2                                              0.426071          \n",
       "3                                              0.399844          \n",
       "4                                              0.465022          \n",
       "...                                                 ...          \n",
       "6814                                           0.493687          \n",
       "6815                                           0.475162          \n",
       "6816                                           0.472725          \n",
       "6817                                           0.506264          \n",
       "6818                                           0.493053          \n",
       "\n",
       "       Net worth/Assets   Debt ratio %  \\\n",
       "0              0.792424       0.207576   \n",
       "1              0.828824       0.171176   \n",
       "2              0.792484       0.207516   \n",
       "3              0.848535       0.151465   \n",
       "4              0.893491       0.106509   \n",
       "...                 ...            ...   \n",
       "6814           0.875382       0.124618   \n",
       "6815           0.900747       0.099253   \n",
       "6816           0.961061       0.038939   \n",
       "6817           0.913021       0.086979   \n",
       "6818           0.985851       0.014149   \n",
       "\n",
       "       Persistent EPS in the Last Four Seasons  \\\n",
       "0                                     0.169141   \n",
       "1                                     0.208944   \n",
       "2                                     0.180581   \n",
       "3                                     0.193722   \n",
       "4                                     0.212537   \n",
       "...                                        ...   \n",
       "6814                                  0.216602   \n",
       "6815                                  0.216697   \n",
       "6816                                  0.210929   \n",
       "6817                                  0.228326   \n",
       "6818                                  0.227758   \n",
       "\n",
       "       Retained Earnings to Total Assets  \\\n",
       "0                               0.903225   \n",
       "1                               0.931065   \n",
       "2                               0.909903   \n",
       "3                               0.906902   \n",
       "4                               0.913850   \n",
       "...                                  ...   \n",
       "6814                            0.925611   \n",
       "6815                            0.932629   \n",
       "6816                            0.932000   \n",
       "6817                            0.939613   \n",
       "6818                            0.938005   \n",
       "\n",
       "       Net profit before tax/Paid-in capital  \n",
       "0                                   0.137757  \n",
       "1                                   0.168962  \n",
       "2                                   0.148036  \n",
       "3                                   0.147561  \n",
       "4                                   0.167461  \n",
       "...                                      ...  \n",
       "6814                                0.171111  \n",
       "6815                                0.171805  \n",
       "6816                                0.172287  \n",
       "6817                                0.182498  \n",
       "6818                                0.179911  \n",
       "\n",
       "[6819 rows x 10 columns]"
      ]
     },
     "execution_count": 5,
     "metadata": {},
     "output_type": "execute_result"
    }
   ],
   "source": [
    "X"
   ]
  },
  {
   "cell_type": "markdown",
   "id": "ef69afa3-2c33-4e08-bdba-4601a7ea2838",
   "metadata": {},
   "source": [
    "## 차원축소 기법(Feature Selection): Wrapper\n",
    "- 전진 선택(Forward selection)\n",
    "- 후진 제거(Backward elimination)\n",
    "- Stepwise selection"
   ]
  },
  {
   "cell_type": "code",
   "execution_count": 6,
   "id": "24e04905-ea76-43bf-b280-68897ad73a9c",
   "metadata": {},
   "outputs": [
    {
     "name": "stdout",
     "output_type": "stream",
     "text": [
      "sfs_forward 선택된 특성\n",
      "('Bankrupt?',)\n",
      "sfs_backward 선택된 특성\n",
      "('Bankrupt?', ' Net Income to Total Assets', ' ROA(A) before interest and % after tax', ' ROA(B) before interest and depreciation after tax', ' ROA(C) before interest and depreciation before interest', ' Net worth/Assets', ' Debt ratio %', ' Persistent EPS in the Last Four Seasons', ' Retained Earnings to Total Assets', ' Net profit before tax/Paid-in capital')\n",
      "sfs_stepwise 선택된 특성\n",
      "('Bankrupt?',)\n"
     ]
    },
    {
     "data": {
      "image/png": "[encoded data removed]",
      "text/plain": [
       "<Figure size 1800x600 with 3 Axes>"
      ]
     },
     "metadata": {},
     "output_type": "display_data"
    }
   ],
   "source": [
    "# 훈련 데이터셋으로 분할\n",
    "\n",
    "X_train, X_test, y_train, y_test= train_test_split(X, y, test_size=0.2, random_state=111)\n",
    "\n",
    "# 로지스틱회귀모델 가지고오기\n",
    "model=LogisticRegression(max_iter=200)\n",
    "\n",
    "\n",
    "# 각선택법을 가지고 오는 방법\n",
    "# SFS(모델, 피처선정 어떻게 할건지? best 기타 등등, forward , floating , scoring, cv)\n",
    "sfs_forward=SFS(model, k_features= 'best', forward= True, floating=False, scoring='accuracy', cv=3)\n",
    "sfs_backward=SFS(model, k_features= 'best', forward= False, floating=False, scoring='accuracy', cv=3)\n",
    "sfs_stepwise=SFS(model, k_features= 'best', forward= True, floating=True, scoring='accuracy', cv=3)\n",
    "\n",
    "# 각 방법을 3개 모두 다 학습 간단하게 fit\n",
    "sfs_forward =sfs_forward.fit(X_train, y_train)\n",
    "sfs_backward =sfs_backward.fit(X_train, y_train)\n",
    "sfs_stepwise =sfs_stepwise.fit(X_train, y_train)\n",
    "\n",
    "#선택된 특성 출력\n",
    "#어떤 피처들이 선정되는지?\n",
    "print('sfs_forward 선택된 특성')\n",
    "print(sfs_forward.k_feature_names_)\n",
    "\n",
    "\n",
    "print('sfs_backward 선택된 특성')\n",
    "print(sfs_backward.k_feature_names_)\n",
    "\n",
    "\n",
    "print('sfs_stepwise 선택된 특성')\n",
    "print(sfs_stepwise.k_feature_names_)\n",
    "\n",
    "\n",
    "#시각화로 실제 어떤 식으로 변화하는지 체크해 보자!\n",
    "fig, ax = plt.subplots(1,3, figsize=(18,6))\n",
    "ax[0].plot(range(1, len(sfs_forward.subsets_)+1),[sfs_forward.subsets_[i]['avg_score'] for i in sfs_forward.subsets_], marker='o')\n",
    "ax[0].set_title('sfs_forward')\n",
    "\n",
    "ax[1].plot(range(1, len(sfs_backward.subsets_)+1),[sfs_backward.subsets_[i]['avg_score'] for i in sfs_backward.subsets_], marker='o')\n",
    "ax[1].set_title('sfs_backward')\n",
    "\n",
    "ax[2].plot(range(1, len(sfs_stepwise.subsets_)+1),[sfs_stepwise.subsets_[i]['avg_score'] for i in sfs_stepwise.subsets_], marker='o')\n",
    "ax[2].set_title('sfs_stepwise')\n",
    "\n",
    "plt.tight_layout()\n",
    "plt.show()"
   ]
  },
  {
   "cell_type": "code",
   "execution_count": null,
   "id": "1814015f-9fb1-40c6-94ff-d28a91a58875",
   "metadata": {},
   "outputs": [],
   "source": []
  },
  {
   "cell_type": "markdown",
   "id": "e776b01d-3688-4d10-bffc-844e3bcce6be",
   "metadata": {},
   "source": [
    "## RFE, RFECV\n",
    "<b> RFE </b> : 반복적으로 훈련시키고, 가장 중요도가 낮은 특성을 하나씩 제거하는 방식, 몇 개 제거할지 등을 지정할 수 있다.\n"
   ]
  },
  {
   "cell_type": "markdown",
   "id": "08cf94f2-bc07-4346-8a5e-c693c8cad186",
   "metadata": {},
   "source": [
    "- RFE"
   ]
  },
  {
   "cell_type": "code",
   "execution_count": 7,
   "id": "8af962ca-b097-4abd-9ca1-d96cd32825d1",
   "metadata": {
    "tags": []
   },
   "outputs": [],
   "source": [
    "X = data.drop(columns=['Bankrupt?'])\n",
    "y = data['Bankrupt?']"
   ]
  },
  {
   "cell_type": "code",
   "execution_count": 8,
   "id": "ff22bca8-bde5-4f01-8813-f3ed649be3a0",
   "metadata": {
    "tags": []
   },
   "outputs": [
    {
     "name": "stdout",
     "output_type": "stream",
     "text": [
      "RandomForest RFE 선택된 특성: [' Persistent EPS in the Last Four Seasons', ' Net Value Growth Rate', ' Interest Expense Ratio', ' Total debt/Total net worth', ' Borrowing dependency', ' Net profit before tax/Paid-in capital', ' Cash/Total Assets', ' Working Capital/Equity', \" Net Income to Stockholder's Equity\", ' Degree of Financial Leverage (DFL)']\n"
     ]
    }
   ],
   "source": [
    "from sklearn.ensemble import RandomForestClassifier\n",
    "from sklearn.feature_selection import RFE\n",
    "\n",
    "# RandomForest 모델\n",
    "model_rf = RandomForestClassifier(n_estimators=100, random_state=111)\n",
    "\n",
    "# RFE 모델 생성 및 학습\n",
    "selector_rf = RFE(estimator=model_rf, n_features_to_select=10)\n",
    "selector_rf = selector_rf.fit(X, y)\n",
    "\n",
    "# 선택된 특성\n",
    "selected_features_rf = [X.columns[i] for i in range(len(selector_rf.support_)) if selector_rf.support_[i]]\n",
    "print('RandomForest RFE 선택된 특성:', selected_features_rf)"
   ]
  },
  {
   "cell_type": "markdown",
   "id": "d54adeff-c4d1-4d36-bf65-0f6371af9bfe",
   "metadata": {},
   "source": [
    "- RFECV"
   ]
  },
  {
   "cell_type": "markdown",
   "id": "3cec72b2-ea1a-4643-bb3f-d872d5222640",
   "metadata": {},
   "source": [
    "<b> RFECV </b>: 확장된 버전 -> 교차검증 통해 최적의 특성 수를 자동으로 결정, 반복에서 특성 제거하면서 교차검증으로 수행하여 모델 평가 -> 특성 수 찾기"
   ]
  },
  {
   "cell_type": "code",
   "execution_count": 9,
   "id": "bbc5d6b0-400d-4668-96bb-91408eadc087",
   "metadata": {},
   "outputs": [],
   "source": [
    "from sklearn.model_selection import StratifiedKFold\n",
    "from sklearn.ensemble import RandomForestClassifier\n",
    "from sklearn.feature_selection import RFECV"
   ]
  },
  {
   "cell_type": "code",
   "execution_count": 10,
   "id": "d6aaa251-e6d4-47ca-bdde-83d73f5b829c",
   "metadata": {
    "tags": []
   },
   "outputs": [],
   "source": [
    "model= RandomForestClassifier()\n",
    "cv= StratifiedKFold(3)"
   ]
  },
  {
   "cell_type": "code",
   "execution_count": 11,
   "id": "802b11c2-6a46-4773-9baf-7d60fee48cc7",
   "metadata": {
    "tags": []
   },
   "outputs": [],
   "source": [
    "#RFECV 모델 만들기\n",
    "selector =RFECV(estimator=model, step=1, cv=cv)\n",
    "selector=selector.fit(X,y)"
   ]
  },
  {
   "cell_type": "code",
   "execution_count": 12,
   "id": "f936bd33-a018-44c3-9e66-e4c9e8c2fd67",
   "metadata": {
    "tags": []
   },
   "outputs": [
    {
     "name": "stdout",
     "output_type": "stream",
     "text": [
      "최적의 피처 수  33\n",
      "최적의 피처 수  [ True False False False False False False False  True False  True False\n",
      " False  True False  True  True  True  True False False False  True False\n",
      " False False False False False  True False False False  True  True  True\n",
      "  True  True False  True False False  True False False False  True False\n",
      "  True False False  True False  True False False  True False  True False\n",
      " False  True False False  True False False False  True False False False\n",
      " False False False False False False False False False False False False\n",
      " False  True  True  True False  True False  True  True False  True]\n"
     ]
    }
   ],
   "source": [
    "# 최적의 특성 수 , 선택된 특성 출력\n",
    "\n",
    "print('최적의 피처 수 ', selector.n_features_)\n",
    "print('최적의 피처 수 ', selector.support_)"
   ]
  },
  {
   "cell_type": "code",
   "execution_count": 13,
   "id": "50f2ef50-e04f-45f9-a3fb-296b25cf41c0",
   "metadata": {
    "tags": []
   },
   "outputs": [
    {
     "name": "stdout",
     "output_type": "stream",
     "text": [
      "선택된 Feature: ['Bankrupt?', ' After-tax net Interest Rate', ' Continuous interest rate (after tax)', ' Cash flow rate', ' Tax rate (A)', ' Net Value Per Share (B)', ' Net Value Per Share (A)', ' Net Value Per Share (C)', ' Operating Profit Per Share (Yuan ¥)', ' Total Asset Growth Rate', ' Current Ratio', ' Quick Ratio', ' Interest Expense Ratio', ' Total debt/Total net worth', ' Debt ratio %', ' Long-term fund suitability ratio (A)', ' Operating profit/Paid-in capital', ' Accounts Receivable Turnover', ' Inventory Turnover Rate (times)', ' Revenue per person', ' Allocation rate per person', ' Current Assets/Total Assets', ' Quick Assets/Current Liability', ' Operating Funds to Liability', ' Current Liabilities/Liability', ' Retained Earnings to Total Assets', ' Liability-Assets Flag', ' Net Income to Total Assets', ' Total assets to GNP price', ' Gross Profit to Sales', ' Liability to Equity', ' Degree of Financial Leverage (DFL)', ' Net Income Flag']\n"
     ]
    },
    {
     "ename": "AttributeError",
     "evalue": "'list' object has no attribute 'counts'",
     "output_type": "error",
     "traceback": [
      "\u001b[1;31m---------------------------------------------------------------------------\u001b[0m",
      "\u001b[1;31mAttributeError\u001b[0m                            Traceback (most recent call last)",
      "\u001b[1;32m~\\AppData\\Local\\Temp\\ipykernel_4008\\1629208284.py\u001b[0m in \u001b[0;36m<module>\u001b[1;34m\u001b[0m\n\u001b[0;32m      3\u001b[0m \u001b[1;33m\u001b[0m\u001b[0m\n\u001b[0;32m      4\u001b[0m \u001b[0mprint\u001b[0m\u001b[1;33m(\u001b[0m\u001b[1;34m'선택된 Feature:'\u001b[0m\u001b[1;33m,\u001b[0m \u001b[0mselected_features\u001b[0m\u001b[1;33m)\u001b[0m\u001b[1;33m\u001b[0m\u001b[1;33m\u001b[0m\u001b[0m\n\u001b[1;32m----> 5\u001b[1;33m \u001b[0mprint\u001b[0m\u001b[1;33m(\u001b[0m\u001b[0mselected_features\u001b[0m\u001b[1;33m.\u001b[0m\u001b[0mcounts\u001b[0m\u001b[1;33m)\u001b[0m\u001b[1;33m\u001b[0m\u001b[1;33m\u001b[0m\u001b[0m\n\u001b[0m",
      "\u001b[1;31mAttributeError\u001b[0m: 'list' object has no attribute 'counts'"
     ]
    }
   ],
   "source": [
    "# 선택된 Feature 이름 출력\n",
    "selected_features = [name for name, support in zip(data, selector.support_) if support]\n",
    "\n",
    "print('선택된 Feature:', selected_features)\n",
    "print(selected_features.counts)"
   ]
  },
  {
   "cell_type": "markdown",
   "id": "877ae47b-1f6d-42a7-bc21-b0d10d186143",
   "metadata": {},
   "source": [
    "## 중간 정리\n",
    "- <b> 상관관계로 선택된 Feature:  </b>\n",
    "'Bankrupt?', ' Net Income to Total Assets', ' ROA(A) before interest and % after tax',\n",
    "' ROA(B) before interest and depreciation after tax', ' ROA(C) before interest and depreciation before interest', ' Net worth/Assets',\n",
    "' Debt ratio %', ' Persistent EPS in the Last Four Seasons', ' Retained Earnings to Total Assets', ' Net profit before tax/Paid-in capital'\n",
    "\n",
    "- <b> RFE로 선택된 Feature: </b>\n",
    "' Persistent EPS in the Last Four Seasons', ' Net Value Growth Rate', ' Interest Expense Ratio', ' Total debt/Total net worth', ' Borrowing dependency', ' Net profit before tax/Paid-in capital', ' Cash/Total Assets', ' Working Capital/Equity', \" Net Income to Stockholder's Equity\", ' Degree of Financial Leverage (DFL)'\n",
    "    \n",
    "- <b> RFECV 로 선택된 Feature: </b>\n",
    "'Bankrupt?', ' ROA(A) before interest and % after tax', ' Operating Profit Rate', ' After-tax net Interest Rate', ' Non-industry income and expenditure/revenue', ' Continuous interest rate (after tax)', ' Cash flow rate', ' Tax rate (A)', ' Net Value Per Share (B)', ' Net Value Per Share (A)', ' Net Value Per Share (C)', ' Operating Profit Per Share (Yuan ¥)', ' Total Asset Growth Rate', ' Current Ratio', ' Quick Ratio', ' Interest Expense Ratio', ' Total debt/Total net worth', ' Debt ratio %', ' Long-term fund suitability ratio (A)', ' Operating profit/Paid-in capital', ' Total Asset Turnover', ' Accounts Receivable Turnover', ' Average Collection Days', ' Inventory Turnover Rate (times)', ' Net Worth Turnover Rate (times)', ' Revenue per person', ' Operating profit per person', ' Allocation rate per person', ' Current Assets/Total Assets', ' Cash/Total Assets', ' Quick Assets/Current Liability', ' Operating Funds to Liability', ' Current Liabilities/Liability', ' Retained Earnings to Total Assets', ' Cash Flow to Total Assets', ' Cash Flow to Equity', ' Liability-Assets Flag', ' Net Income to Total Assets', ' Total assets to GNP price', ' No-credit Interval', ' Gross Profit to Sales', \" Net Income to Stockholder's Equity\", ' Liability to Equity', ' Degree of Financial Leverage (DFL)', ' Net Income Flag'"
   ]
  },
  {
   "cell_type": "code",
   "execution_count": null,
   "id": "733017a1-bb4d-4696-bf91-c76b9b7c5ea9",
   "metadata": {
    "tags": []
   },
   "outputs": [],
   "source": [
    "# 상관관계로 선택된 Feature\n",
    "correlation_features = {'Bankrupt?', 'Net Income to Total Assets', 'ROA(A) before interest and % after tax', \n",
    "                        'ROA(B) before interest and depreciation after tax', 'ROA(C) before interest and depreciation before interest', \n",
    "                        'Net worth/Assets', 'Debt ratio %', 'Persistent EPS in the Last Four Seasons', \n",
    "                        'Retained Earnings to Total Assets', 'Net profit before tax/Paid-in capital'}\n",
    "\n",
    "# RFE로 선택된 Feature\n",
    "rfe_features = {'Persistent EPS in the Last Four Seasons', 'Net Value Growth Rate', 'Interest Expense Ratio', \n",
    "                'Total debt/Total net worth', 'Borrowing dependency', 'Net profit before tax/Paid-in capital', \n",
    "                'Cash/Total Assets', 'Working Capital/Equity', 'Net Income to Stockholder\\'s Equity', \n",
    "                'Degree of Financial Leverage (DFL)'}\n",
    "\n",
    "# RFECV로 선택된 Feature\n",
    "rfecv_features = {'Bankrupt?', 'ROA(A) before interest and % after tax', 'Operating Profit Rate', \n",
    "                  'After-tax net Interest Rate', 'Non-industry income and expenditure/revenue', \n",
    "                  'Continuous interest rate (after tax)', 'Cash flow rate', 'Tax rate (A)', \n",
    "                  'Net Value Per Share (B)', 'Net Value Per Share (A)', 'Net Value Per Share (C)', \n",
    "                  'Operating Profit Per Share (Yuan ¥)', 'Total Asset Growth Rate', 'Current Ratio', \n",
    "                  'Quick Ratio', 'Interest Expense Ratio', 'Total debt/Total net worth', 'Debt ratio %', \n",
    "                  'Long-term fund suitability ratio (A)', 'Operating profit/Paid-in capital', \n",
    "                  'Total Asset Turnover', 'Accounts Receivable Turnover', 'Average Collection Days', \n",
    "                  'Inventory Turnover Rate (times)', 'Net Worth Turnover Rate (times)', 'Revenue per person', \n",
    "                  'Operating profit per person', 'Allocation rate per person', 'Current Assets/Total Assets', \n",
    "                  'Cash/Total Assets', 'Quick Assets/Current Liability', 'Operating Funds to Liability', \n",
    "                  'Current Liabilities/Liability', 'Retained Earnings to Total Assets', 'Cash Flow to Total Assets', \n",
    "                  'Cash Flow to Equity', 'Liability-Assets Flag', 'Net Income to Total Assets', \n",
    "                  'Total assets to GNP price', 'No-credit Interval', 'Gross Profit to Sales', \n",
    "                  'Net Income to Stockholder\\'s Equity', 'Liability to Equity', 'Degree of Financial Leverage (DFL)', \n",
    "                  'Net Income Flag'}\n",
    "\n",
    "# 세 방법 모두에서 선택된 Feature 찾기\n",
    "common_features = correlation_features & rfe_features & rfecv_features\n",
    "\n",
    "# 두 방법에서 겹치는 Feature 찾기\n",
    "correlation_rfe_common = correlation_features & rfe_features\n",
    "correlation_rfecv_common = correlation_features & rfecv_features\n",
    "rfe_rfecv_common = rfe_features & rfecv_features\n",
    "\n",
    "# 결과 출력\n",
    "print('세 방법 모두에서 선택된 Feature:', common_features)\n",
    "print('상관관계와 RFE에서 선택된 Feature:', correlation_rfe_common)\n",
    "print('상관관계와 RFECV에서 선택된 Feature:', correlation_rfecv_common)\n",
    "print('RFE와 RFECV에서 선택된 Feature:', rfe_rfecv_common)\n",
    "\n",
    "select_feture = correlation_rfe_common | correlation_rfecv_common | rfe_rfecv_common\n",
    "print('2개 이상 겹치는 Feature:', select_feture )\n"
   ]
  },
  {
   "cell_type": "markdown",
   "id": "74672cc8-44ef-459d-ab7b-2be9bb919f25",
   "metadata": {},
   "source": [
    "- <b> 2개 이상 겹치는 Feature: </b>\n",
    "{'ROA(A) before interest and % after tax', 'Interest Expense Ratio', 'Net profit before tax/Paid-in capital', \"Net Income to Stockholder's Equity\", 'Persistent EPS in the Last Four Seasons', 'Bankrupt?', 'Total debt/Total net worth', 'Debt ratio %', 'Net Income to Total Assets', 'Degree of Financial Leverage (DFL)', 'Cash/Total Assets', 'Retained Earnings to Total Assets'}"
   ]
  },
  {
   "cell_type": "code",
   "execution_count": null,
   "id": "777ff27e-16f3-403d-ba1b-726c6543e51b",
   "metadata": {},
   "outputs": [],
   "source": []
  }
 ],
 "metadata": {
  "kernelspec": {
   "display_name": "Python 3 (ipykernel)",
   "language": "python",
   "name": "python3"
  },
  "language_info": {
   "codemirror_mode": {
    "name": "ipython",
    "version": 3
   },
   "file_extension": ".py",
   "mimetype": "text/x-python",
   "name": "python",
   "nbconvert_exporter": "python",
   "pygments_lexer": "ipython3",
   "version": "3.7.9"
  }
 },
 "nbformat": 4,
 "nbformat_minor": 5
}
